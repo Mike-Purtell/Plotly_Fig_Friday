{
 "cells": [
  {
   "cell_type": "markdown",
   "id": "ce0238ea-6930-4a02-ace7-ae0d786c43f7",
   "metadata": {},
   "source": [
    "### Plotly Figure Friday - 2024 week 45 - Gantt Chart"
   ]
  },
  {
   "cell_type": "code",
   "execution_count": null,
   "id": "30200278",
   "metadata": {},
   "outputs": [
    {
     "data": {
      "application/vnd.plotly.v1+json": {
       "config": {
        "plotlyServerURL": "https://plot.ly"
       },
       "data": [
        {
         "alignmentgroup": "True",
         "base": [
          "1895-01-01T00:00:00",
          "1888-01-01T00:00:00",
          "1932-01-01T00:00:00",
          "1868-01-01T00:00:00",
          "1878-01-01T00:00:00"
         ],
         "customdata": [
          [
           "<b>ALBERTA</b>",
           "",
           "Alberta",
           "",
           1895,
           2021,
           126
          ],
          [
           "<b>BRITISH COLUMBIA</b>",
           "",
           "British Columbia",
           "",
           1888,
           2018,
           130
          ],
          [
           "<b>NEW BRUNSWICK</b>",
           "",
           "New Brunswick",
           "",
           1932,
           2009,
           77
          ],
          [
           "<b>NOVA SCOTIA</b>",
           "",
           "Nova Scotia",
           "",
           1868,
           2020,
           152
          ],
          [
           "<b>SASKATCHEWAN</b>",
           "",
           "Saskatchewan",
           "",
           1878,
           2019,
           141
          ]
         ],
         "hovertemplate": "<b>%{customdata[0]}</b><br>%{customdata[1]}, %{customdata[2]}<br>Mine Name: %{customdata[3]}<br>%{customdata[4]} to %{customdata[5]}<br>(%{customdata[6]:.0f} Years)<br><extra></extra>",
         "legendgroup": "0",
         "marker": {
          "color": "#636efa",
          "pattern": {
           "shape": ""
          }
         },
         "name": "0",
         "offsetgroup": "0",
         "orientation": "h",
         "showlegend": true,
         "textposition": "auto",
         "type": "bar",
         "x": [
          3976214400000,
          4102444800000,
          2430000000000,
          4796668800000,
          4449513600000
         ],
         "xaxis": "x",
         "y": [
          "  1.00: <b>ALBERTA</b>",
          "  2.00: <b>BRITISH COLUMBIA</b>",
          "  3.00: <b>NEW BRUNSWICK</b>",
          "  4.00: <b>NOVA SCOTIA</b>",
          "  5.00: <b>SASKATCHEWAN</b>"
         ],
         "yaxis": "y"
        },
        {
         "alignmentgroup": "True",
         "base": [
          "1895-01-01T00:00:00",
          "1888-01-01T00:00:00",
          "1932-01-01T00:00:00",
          "1868-01-01T00:00:00",
          "1878-01-01T00:00:00"
         ],
         "customdata": [
          [
           "Canmore Mines Ltd., The",
           "Canmore ",
           "Alberta",
           "None",
           1895,
           1974,
           79
          ],
          [
           "Comox Mining Co. Ltd. ",
           "No Name Town",
           "British Columbia",
           "None",
           1888,
           1967,
           79
          ],
          [
           "Miramichi Lumber Co. Ltd. ",
           "Minto ",
           "New Brunswick",
           "None",
           1932,
           2009,
           77
          ],
          [
           "Drummond Coal Ltd.",
           "Westville ",
           "Nova Scotia",
           "Pioneer or Drummond",
           1868,
           1984,
           116
          ],
          [
           "Portal Coals Ltd. ",
           "Roche Perce",
           "Saskatchewan",
           "Sutherland",
           1878,
           1955,
           77
          ]
         ],
         "hovertemplate": "<b>%{customdata[0]}</b><br>%{customdata[1]}, %{customdata[2]}<br>Mine Name: %{customdata[3]}<br>%{customdata[4]} to %{customdata[5]}<br>(%{customdata[6]:.0f} Years)<br><extra></extra>",
         "legendgroup": "1",
         "marker": {
          "color": "#EF553B",
          "pattern": {
           "shape": ""
          }
         },
         "name": "1",
         "offsetgroup": "1",
         "orientation": "h",
         "showlegend": true,
         "textposition": "auto",
         "type": "bar",
         "x": [
          2492985600000,
          2492985600000,
          2430000000000,
          3660595200000,
          2429827200000
         ],
         "xaxis": "x",
         "y": [
          "  1.01: Canmore Mines Ltd., The",
          "  2.01: Comox Mining Co. Ltd. ",
          "  3.01: Miramichi Lumber Co. Ltd. ",
          "  4.01: Drummond Coal Ltd.",
          "  5.01: Portal Coals Ltd. "
         ],
         "yaxis": "y"
        },
        {
         "alignmentgroup": "True",
         "base": [
          "1910-01-01T00:00:00",
          "1897-01-01T00:00:00",
          "1887-01-01T00:00:00",
          "1890-01-01T00:00:00"
         ],
         "customdata": [
          [
           "Brazeau Collieries Ltd. ",
           "No Name Town",
           "Alberta",
           "None",
           1910,
           1955,
           45
          ],
          [
           "Crow's Nest Pass Coal Co. Ltd. ",
           "No Name Town",
           "British Columbia",
           "None",
           1897,
           1978,
           81
          ],
          [
           "Joggins Coal Co. ",
           "No Name Town",
           "Nova Scotia",
           "None",
           1887,
           1961,
           74
          ],
          [
           "Western Dominion Coal Mines Ltd. ",
           "No Name Town",
           "Saskatchewan",
           "Taylorton",
           1890,
           1963,
           73
          ]
         ],
         "hovertemplate": "<b>%{customdata[0]}</b><br>%{customdata[1]}, %{customdata[2]}<br>Mine Name: %{customdata[3]}<br>%{customdata[4]} to %{customdata[5]}<br>(%{customdata[6]:.0f} Years)<br><extra></extra>",
         "legendgroup": "2",
         "marker": {
          "color": "#00cc96",
          "pattern": {
           "shape": ""
          }
         },
         "name": "2",
         "offsetgroup": "2",
         "orientation": "h",
         "showlegend": true,
         "textposition": "auto",
         "type": "bar",
         "x": [
          1420070400000,
          2556057600000,
          2335219200000,
          2303596800000
         ],
         "xaxis": "x",
         "y": [
          "  1.02: Brazeau Collieries Ltd. ",
          "  2.02: Crow's Nest Pass Coal Co. Ltd. ",
          "  4.02: Joggins Coal Co. ",
          "  5.02: Western Dominion Coal Mines Ltd. "
         ],
         "yaxis": "y"
        },
        {
         "alignmentgroup": "True",
         "base": [
          "1912-01-01T00:00:00",
          "1903-01-01T00:00:00",
          "1900-01-01T00:00:00",
          "1899-01-01T00:00:00"
         ],
         "customdata": [
          [
           "Midland Coal Mining Co. Ltd.",
           "No Name Town",
           "Alberta",
           "None",
           1912,
           1959,
           47
          ],
          [
           "Coleman Collieries Ltd. ",
           "Crowsnest Pass",
           "British Columbia",
           "None",
           1903,
           1983,
           80
          ],
          [
           "Cape Breton Development Corp., (DEVCO),",
           "Glace Bay ",
           "Nova Scotia",
           "No. 26 Colliery",
           1900,
           1984,
           84
          ],
          [
           "Saskatchewan Power Corp.",
           "Estevan ",
           "Saskatchewan",
           "Souris Valley",
           1899,
           1983,
           84
          ]
         ],
         "hovertemplate": "<b>%{customdata[0]}</b><br>%{customdata[1]}, %{customdata[2]}<br>Mine Name: %{customdata[3]}<br>%{customdata[4]} to %{customdata[5]}<br>(%{customdata[6]:.0f} Years)<br><extra></extra>",
         "legendgroup": "3",
         "marker": {
          "color": "#ab63fa",
          "pattern": {
           "shape": ""
          }
         },
         "name": "3",
         "offsetgroup": "3",
         "orientation": "h",
         "showlegend": true,
         "textposition": "auto",
         "type": "bar",
         "x": [
          1483228800000,
          2524608000000,
          2650752000000,
          2650752000000
         ],
         "xaxis": "x",
         "y": [
          "  1.03: Midland Coal Mining Co. Ltd.",
          "  2.03: Coleman Collieries Ltd. ",
          "  4.03: Cape Breton Development Corp., (DEVCO),",
          "  5.03: Saskatchewan Power Corp."
         ],
         "yaxis": "y"
        },
        {
         "alignmentgroup": "True",
         "base": [
          "1914-01-01T00:00:00",
          "1908-01-01T00:00:00",
          "1901-01-01T00:00:00"
         ],
         "customdata": [
          [
           "Manalta Coal Ltd.",
           "Hanna",
           "Alberta",
           "Montgomery",
           1914,
           1999,
           85
          ],
          [
           "Fording Coal Limited",
           "Sparwood",
           "British Columbia",
           "Coal Mountain",
           1908,
           2018,
           110
          ],
          [
           "Bras D'Or Coal Co. Ltd.",
           "Broughton ",
           "Nova Scotia",
           "None",
           1901,
           1969,
           68
          ]
         ],
         "hovertemplate": "<b>%{customdata[0]}</b><br>%{customdata[1]}, %{customdata[2]}<br>Mine Name: %{customdata[3]}<br>%{customdata[4]} to %{customdata[5]}<br>(%{customdata[6]:.0f} Years)<br><extra></extra>",
         "legendgroup": "4",
         "marker": {
          "color": "#FFA15A",
          "pattern": {
           "shape": ""
          }
         },
         "name": "4",
         "offsetgroup": "4",
         "orientation": "h",
         "showlegend": true,
         "textposition": "auto",
         "type": "bar",
         "x": [
          2682374400000,
          3471379200000,
          2145916800000
         ],
         "xaxis": "x",
         "y": [
          "  1.04: Manalta Coal Ltd.",
          "  2.04: Fording Coal Limited",
          "  4.04: Bras D'Or Coal Co. Ltd."
         ],
         "yaxis": "y"
        },
        {
         "alignmentgroup": "True",
         "base": [
          "1918-01-01T00:00:00",
          "1972-01-01T00:00:00",
          "1901-01-01T00:00:00",
          "1973-01-01T00:00:00"
         ],
         "customdata": [
          [
           "Red Deer Valley Coal Co. Ltd. ",
           "No Name Town",
           "Alberta",
           "Foothills",
           1918,
           1961,
           43
          ],
          [
           "Crows Nest Resources Ltd.",
           "Line Creek",
           "British Columbia",
           "Line Creek",
           1972,
           2015,
           43
          ],
          [
           "Dominion Steel and Coal Corp. Ltd.",
           "No Name Town",
           "Nova Scotia",
           "Old Sydney Collieries Division",
           1901,
           1975,
           74
          ],
          [
           "Luscar Ltd.",
           "Estevan ",
           "Saskatchewan",
           "Boundary Dam",
           1973,
           2019,
           46
          ]
         ],
         "hovertemplate": "<b>%{customdata[0]}</b><br>%{customdata[1]}, %{customdata[2]}<br>Mine Name: %{customdata[3]}<br>%{customdata[4]} to %{customdata[5]}<br>(%{customdata[6]:.0f} Years)<br><extra></extra>",
         "legendgroup": "5",
         "marker": {
          "color": "#19d3f3",
          "pattern": {
           "shape": ""
          }
         },
         "name": "5",
         "offsetgroup": "5",
         "orientation": "h",
         "showlegend": true,
         "textposition": "auto",
         "type": "bar",
         "x": [
          1356998400000,
          1356998400000,
          2335219200000,
          1451606400000
         ],
         "xaxis": "x",
         "y": [
          "  1.05: Red Deer Valley Coal Co. Ltd. ",
          "  2.05: Crows Nest Resources Ltd.",
          "  4.05: Dominion Steel and Coal Corp. Ltd.",
          "  5.05: Luscar Ltd."
         ],
         "yaxis": "y"
        },
        {
         "alignmentgroup": "True",
         "base": [
          "1919-01-01T00:00:00",
          "1980-01-01T00:00:00",
          "1915-01-01T00:00:00"
         ],
         "customdata": [
          [
           "Sissons Mines Ltd.",
           "Alix",
           "Alberta",
           "None",
           1919,
           2002,
           83
          ],
          [
           "Westar Mining Corporation",
           "Sparwood",
           "British Columbia",
           "Elkview, formely Balmer",
           1980,
           2015,
           35
          ],
          [
           "Springhill Coal Mines Ltd. ",
           "Springhill ",
           "Nova Scotia",
           "None",
           1915,
           1970,
           55
          ]
         ],
         "hovertemplate": "<b>%{customdata[0]}</b><br>%{customdata[1]}, %{customdata[2]}<br>Mine Name: %{customdata[3]}<br>%{customdata[4]} to %{customdata[5]}<br>(%{customdata[6]:.0f} Years)<br><extra></extra>",
         "legendgroup": "6",
         "marker": {
          "color": "#FF6692",
          "pattern": {
           "shape": ""
          }
         },
         "name": "6",
         "offsetgroup": "6",
         "orientation": "h",
         "showlegend": true,
         "textposition": "auto",
         "type": "bar",
         "x": [
          2619302400000,
          1104537600000,
          1735689600000
         ],
         "xaxis": "x",
         "y": [
          "  1.06: Sissons Mines Ltd.",
          "  2.06: Westar Mining Corporation",
          "  4.06: Springhill Coal Mines Ltd. "
         ],
         "yaxis": "y"
        },
        {
         "alignmentgroup": "True",
         "base": [
          "1921-01-01T00:00:00",
          "1918-01-01T00:00:00"
         ],
         "customdata": [
          [
           "Luscar Coals Ltd. ",
           "Luscar",
           "Alberta",
           "None",
           1921,
           1958,
           37
          ],
          [
           "Indian Cove Coal Co. ",
           "Sydney Mines ",
           "Nova Scotia",
           "None",
           1918,
           1963,
           45
          ]
         ],
         "hovertemplate": "<b>%{customdata[0]}</b><br>%{customdata[1]}, %{customdata[2]}<br>Mine Name: %{customdata[3]}<br>%{customdata[4]} to %{customdata[5]}<br>(%{customdata[6]:.0f} Years)<br><extra></extra>",
         "legendgroup": "7",
         "marker": {
          "color": "#B6E880",
          "pattern": {
           "shape": ""
          }
         },
         "name": "7",
         "offsetgroup": "7",
         "orientation": "h",
         "showlegend": true,
         "textposition": "auto",
         "type": "bar",
         "x": [
          1167609600000,
          1420070400000
         ],
         "xaxis": "x",
         "y": [
          "  1.07: Luscar Coals Ltd. ",
          "  4.07: Indian Cove Coal Co. "
         ],
         "yaxis": "y"
        },
        {
         "alignmentgroup": "True",
         "base": [
          "1922-01-01T00:00:00",
          "1918-01-01T00:00:00"
         ],
         "customdata": [
          [
           "Alberta Power Limited",
           "Halkirk ",
           "Alberta",
           "Vesta",
           1922,
           2012,
           90
          ],
          [
           "Greenwood Coal Co. Ltd. ",
           "No Name Town",
           "Nova Scotia",
           "None",
           1918,
           1966,
           48
          ]
         ],
         "hovertemplate": "<b>%{customdata[0]}</b><br>%{customdata[1]}, %{customdata[2]}<br>Mine Name: %{customdata[3]}<br>%{customdata[4]} to %{customdata[5]}<br>(%{customdata[6]:.0f} Years)<br><extra></extra>",
         "legendgroup": "8",
         "marker": {
          "color": "#FF97FF",
          "pattern": {
           "shape": ""
          }
         },
         "name": "8",
         "offsetgroup": "8",
         "orientation": "h",
         "showlegend": true,
         "textposition": "auto",
         "type": "bar",
         "x": [
          2840140800000,
          1514764800000
         ],
         "xaxis": "x",
         "y": [
          "  1.08: Alberta Power Limited",
          "  4.08: Greenwood Coal Co. Ltd. "
         ],
         "yaxis": "y"
        },
        {
         "alignmentgroup": "True",
         "base": [
          "1927-01-01T00:00:00",
          "1986-01-01T00:00:00",
          "1970-01-01T00:00:00",
          "1939-01-01T00:00:00"
         ],
         "customdata": [
          [
           "Lethbridge Collieries Ltd. ",
           "No Name Town",
           "Alberta",
           "None",
           1927,
           1965,
           38
          ],
          [
           "Quinsam Coal Ltd.",
           "Quinsam Mine",
           "British Columbia",
           "Quinsam",
           1986,
           2015,
           29
          ],
          [
           "N.B Coal Ltd.",
           "Minto ",
           "New Brunswick",
           "Salmon Harbour",
           1970,
           2008,
           38
          ],
          [
           "Dominion Coal Co. Ltd.",
           "No Name Town",
           "Nova Scotia",
           "None",
           1939,
           1971,
           32
          ]
         ],
         "hovertemplate": "<b>%{customdata[0]}</b><br>%{customdata[1]}, %{customdata[2]}<br>Mine Name: %{customdata[3]}<br>%{customdata[4]} to %{customdata[5]}<br>(%{customdata[6]:.0f} Years)<br><extra></extra>",
         "legendgroup": "9",
         "marker": {
          "color": "#FECB52",
          "pattern": {
           "shape": ""
          }
         },
         "name": "9",
         "offsetgroup": "9",
         "orientation": "h",
         "showlegend": true,
         "textposition": "auto",
         "type": "bar",
         "x": [
          1199232000000,
          915148800000,
          1199145600000,
          1009843200000
         ],
         "xaxis": "x",
         "y": [
          "  1.09: Lethbridge Collieries Ltd. ",
          "  2.09: Quinsam Coal Ltd.",
          "  3.09: N.B Coal Ltd.",
          "  4.09: Dominion Coal Co. Ltd."
         ],
         "yaxis": "y"
        },
        {
         "alignmentgroup": "True",
         "base": [
          "1936-01-01T00:00:00",
          "1946-01-01T00:00:00"
         ],
         "customdata": [
          [
           "Charter Coals Ltd.",
           "East Coulee ",
           "Alberta",
           "Atlas Coal",
           1936,
           1979,
           43
          ],
          [
           "Dominion Steel and Coal Corp. Ltd.,",
           "No Name Town",
           "Nova Scotia",
           "Acadia Coal Division",
           1946,
           1972,
           26
          ]
         ],
         "hovertemplate": "<b>%{customdata[0]}</b><br>%{customdata[1]}, %{customdata[2]}<br>Mine Name: %{customdata[3]}<br>%{customdata[4]} to %{customdata[5]}<br>(%{customdata[6]:.0f} Years)<br><extra></extra>",
         "legendgroup": "10",
         "marker": {
          "color": "#636efa",
          "pattern": {
           "shape": ""
          }
         },
         "name": "10",
         "offsetgroup": "10",
         "orientation": "h",
         "showlegend": true,
         "textposition": "auto",
         "type": "bar",
         "x": [
          1356998400000,
          820454400000
         ],
         "xaxis": "x",
         "y": [
          "  1.10: Charter Coals Ltd.",
          "  4.10: Dominion Steel and Coal Corp. Ltd.,"
         ],
         "yaxis": "y"
        },
        {
         "alignmentgroup": "True",
         "base": [
          "1941-01-01T00:00:00",
          "1967-01-01T00:00:00"
         ],
         "customdata": [
          [
           "Egg Kale Coal Co. Ltd. ",
           "Morinville",
           "Alberta",
           "None",
           1941,
           2004,
           63
          ],
          [
           "Evans Coal Mines Ltd. ",
           "St. Rose  (Inverness)",
           "Nova Scotia",
           "Evans or St. Rose",
           1967,
           1992,
           25
          ]
         ],
         "hovertemplate": "<b>%{customdata[0]}</b><br>%{customdata[1]}, %{customdata[2]}<br>Mine Name: %{customdata[3]}<br>%{customdata[4]} to %{customdata[5]}<br>(%{customdata[6]:.0f} Years)<br><extra></extra>",
         "legendgroup": "13",
         "marker": {
          "color": "#EF553B",
          "pattern": {
           "shape": ""
          }
         },
         "name": "13",
         "offsetgroup": "13",
         "orientation": "h",
         "showlegend": true,
         "textposition": "auto",
         "type": "bar",
         "x": [
          1988064000000,
          788918400000
         ],
         "xaxis": "x",
         "y": [
          "  1.13: Egg Kale Coal Co. Ltd. ",
          "  4.13: Evans Coal Mines Ltd. "
         ],
         "yaxis": "y"
        },
        {
         "alignmentgroup": "True",
         "base": [
          "1943-01-01T00:00:00"
         ],
         "customdata": [
          [
           "Alberta Coal Sales Ltd.",
           "No Name Town",
           "Alberta",
           "None",
           1943,
           1968,
           25
          ]
         ],
         "hovertemplate": "<b>%{customdata[0]}</b><br>%{customdata[1]}, %{customdata[2]}<br>Mine Name: %{customdata[3]}<br>%{customdata[4]} to %{customdata[5]}<br>(%{customdata[6]:.0f} Years)<br><extra></extra>",
         "legendgroup": "15",
         "marker": {
          "color": "#00cc96",
          "pattern": {
           "shape": ""
          }
         },
         "name": "15",
         "offsetgroup": "15",
         "orientation": "h",
         "showlegend": true,
         "textposition": "auto",
         "type": "bar",
         "x": [
          788918400000
         ],
         "xaxis": "x",
         "y": [
          "  1.15: Alberta Coal Sales Ltd."
         ],
         "yaxis": "y"
        },
        {
         "alignmentgroup": "True",
         "base": [
          "1945-01-01T00:00:00",
          "1975-01-01T00:00:00"
         ],
         "customdata": [
          [
           "Star-Key Mines Ltd. ",
           "Edmonton ",
           "Alberta",
           "None",
           1945,
           1979,
           34
          ],
          [
           "Novaco Ltd.",
           "Point Aconi ",
           "Nova Scotia",
           "Point Aconi",
           1975,
           2013,
           38
          ]
         ],
         "hovertemplate": "<b>%{customdata[0]}</b><br>%{customdata[1]}, %{customdata[2]}<br>Mine Name: %{customdata[3]}<br>%{customdata[4]} to %{customdata[5]}<br>(%{customdata[6]:.0f} Years)<br><extra></extra>",
         "legendgroup": "16",
         "marker": {
          "color": "#ab63fa",
          "pattern": {
           "shape": ""
          }
         },
         "name": "16",
         "offsetgroup": "16",
         "orientation": "h",
         "showlegend": true,
         "textposition": "auto",
         "type": "bar",
         "x": [
          1072915200000,
          1199232000000
         ],
         "xaxis": "x",
         "y": [
          "  1.16: Star-Key Mines Ltd. ",
          "  4.16: Novaco Ltd."
         ],
         "yaxis": "y"
        },
        {
         "alignmentgroup": "True",
         "base": [
          "1950-01-01T00:00:00",
          "1975-01-01T00:00:00"
         ],
         "customdata": [
          [
           "Stettler Coal Co. Ltd.",
           "Halkirk ",
           "Alberta",
           "None",
           1950,
           1977,
           27
          ],
          [
           "Cape Breton Development Corp., (DEVCO)",
           "Point Aconi",
           "Nova Scotia",
           "Prince ",
           1975,
           2001,
           26
          ]
         ],
         "hovertemplate": "<b>%{customdata[0]}</b><br>%{customdata[1]}, %{customdata[2]}<br>Mine Name: %{customdata[3]}<br>%{customdata[4]} to %{customdata[5]}<br>(%{customdata[6]:.0f} Years)<br><extra></extra>",
         "legendgroup": "17",
         "marker": {
          "color": "#FFA15A",
          "pattern": {
           "shape": ""
          }
         },
         "name": "17",
         "offsetgroup": "17",
         "orientation": "h",
         "showlegend": true,
         "textposition": "auto",
         "type": "bar",
         "x": [
          852076800000,
          820540800000
         ],
         "xaxis": "x",
         "y": [
          "  1.17: Stettler Coal Co. Ltd.",
          "  4.17: Cape Breton Development Corp., (DEVCO)"
         ],
         "yaxis": "y"
        },
        {
         "alignmentgroup": "True",
         "base": [
          "1962-01-01T00:00:00"
         ],
         "customdata": [
          [
           "Alberta Southern Coal Co. Ltd. ",
           "Wabamun ",
           "Alberta",
           "Whitewood ",
           1962,
           2010,
           48
          ]
         ],
         "hovertemplate": "<b>%{customdata[0]}</b><br>%{customdata[1]}, %{customdata[2]}<br>Mine Name: %{customdata[3]}<br>%{customdata[4]} to %{customdata[5]}<br>(%{customdata[6]:.0f} Years)<br><extra></extra>",
         "legendgroup": "20",
         "marker": {
          "color": "#19d3f3",
          "pattern": {
           "shape": ""
          }
         },
         "name": "20",
         "offsetgroup": "20",
         "orientation": "h",
         "showlegend": true,
         "textposition": "auto",
         "type": "bar",
         "x": [
          1514764800000
         ],
         "xaxis": "x",
         "y": [
          "  1.20: Alberta Southern Coal Co. Ltd. "
         ],
         "yaxis": "y"
        },
        {
         "alignmentgroup": "True",
         "base": [
          "1969-01-01T00:00:00"
         ],
         "customdata": [
          [
           "Manalta Coal Ltd.",
           "Seba Beach ",
           "Alberta",
           "Highvale",
           1969,
           2021,
           52
          ]
         ],
         "hovertemplate": "<b>%{customdata[0]}</b><br>%{customdata[1]}, %{customdata[2]}<br>Mine Name: %{customdata[3]}<br>%{customdata[4]} to %{customdata[5]}<br>(%{customdata[6]:.0f} Years)<br><extra></extra>",
         "legendgroup": "23",
         "marker": {
          "color": "#FF6692",
          "pattern": {
           "shape": ""
          }
         },
         "name": "23",
         "offsetgroup": "23",
         "orientation": "h",
         "showlegend": true,
         "textposition": "auto",
         "type": "bar",
         "x": [
          1640995200000
         ],
         "xaxis": "x",
         "y": [
          "  1.23: Manalta Coal Ltd."
         ],
         "yaxis": "y"
        },
        {
         "alignmentgroup": "True",
         "base": [
          "1978-01-01T00:00:00"
         ],
         "customdata": [
          [
           "Forestburg Collieries Ltd. ",
           "Forestburg ",
           "Alberta",
           "Paintearth",
           1978,
           2021,
           43
          ]
         ],
         "hovertemplate": "<b>%{customdata[0]}</b><br>%{customdata[1]}, %{customdata[2]}<br>Mine Name: %{customdata[3]}<br>%{customdata[4]} to %{customdata[5]}<br>(%{customdata[6]:.0f} Years)<br><extra></extra>",
         "legendgroup": "25",
         "marker": {
          "color": "#B6E880",
          "pattern": {
           "shape": ""
          }
         },
         "name": "25",
         "offsetgroup": "25",
         "orientation": "h",
         "showlegend": true,
         "textposition": "auto",
         "type": "bar",
         "x": [
          1356998400000
         ],
         "xaxis": "x",
         "y": [
          "  1.25: Forestburg Collieries Ltd. "
         ],
         "yaxis": "y"
        },
        {
         "alignmentgroup": "True",
         "base": [
          "1986-01-01T00:00:00"
         ],
         "customdata": [
          [
           "Battle River Coal Ltd. ",
           "Sheerness ",
           "Alberta",
           "Sheerness",
           1986,
           2021,
           35
          ]
         ],
         "hovertemplate": "<b>%{customdata[0]}</b><br>%{customdata[1]}, %{customdata[2]}<br>Mine Name: %{customdata[3]}<br>%{customdata[4]} to %{customdata[5]}<br>(%{customdata[6]:.0f} Years)<br><extra></extra>",
         "legendgroup": "28",
         "marker": {
          "color": "#FF97FF",
          "pattern": {
           "shape": ""
          }
         },
         "name": "28",
         "offsetgroup": "28",
         "orientation": "h",
         "showlegend": true,
         "textposition": "auto",
         "type": "bar",
         "x": [
          1104537600000
         ],
         "xaxis": "x",
         "y": [
          "  1.28: Battle River Coal Ltd. "
         ],
         "yaxis": "y"
        },
        {
         "alignmentgroup": "True",
         "base": [
          "1967-01-01T00:00:00"
         ],
         "customdata": [
          [
           "Thomas Brogan & Son",
           "No Name Town",
           "Nova Scotia",
           "None",
           1967,
           1993,
           26
          ]
         ],
         "hovertemplate": "<b>%{customdata[0]}</b><br>%{customdata[1]}, %{customdata[2]}<br>Mine Name: %{customdata[3]}<br>%{customdata[4]} to %{customdata[5]}<br>(%{customdata[6]:.0f} Years)<br><extra></extra>",
         "legendgroup": "12",
         "marker": {
          "color": "#FECB52",
          "pattern": {
           "shape": ""
          }
         },
         "name": "12",
         "offsetgroup": "12",
         "orientation": "h",
         "showlegend": true,
         "textposition": "auto",
         "type": "bar",
         "x": [
          820540800000
         ],
         "xaxis": "x",
         "y": [
          "  4.12: Thomas Brogan & Son"
         ],
         "yaxis": "y"
        },
        {
         "alignmentgroup": "True",
         "base": [
          "1991-01-01T00:00:00"
         ],
         "customdata": [
          [
           "Pioneer Coal Co. Ltd. ",
           "Westville ",
           "Nova Scotia",
           "None",
           1991,
           2019,
           28
          ]
         ],
         "hovertemplate": "<b>%{customdata[0]}</b><br>%{customdata[1]}, %{customdata[2]}<br>Mine Name: %{customdata[3]}<br>%{customdata[4]} to %{customdata[5]}<br>(%{customdata[6]:.0f} Years)<br><extra></extra>",
         "legendgroup": "18",
         "marker": {
          "color": "#636efa",
          "pattern": {
           "shape": ""
          }
         },
         "name": "18",
         "offsetgroup": "18",
         "orientation": "h",
         "showlegend": true,
         "textposition": "auto",
         "type": "bar",
         "x": [
          883612800000
         ],
         "xaxis": "x",
         "y": [
          "  4.18: Pioneer Coal Co. Ltd. "
         ],
         "yaxis": "y"
        }
       ],
       "layout": {
        "annotations": [
         {
          "font": {
           "size": 20
          },
          "showarrow": false,
          "text": "Nov 14",
          "x": 1731571200000,
          "xanchor": "center",
          "xref": "x",
          "y": 0,
          "yanchor": "top",
          "yref": "y domain"
         }
        ],
        "barmode": "overlay",
        "height": 1400,
        "hoverlabel": {
         "font": {
          "family": "sans-serif",
          "size": 16
         }
        },
        "legend": {
         "title": {
          "text": "GROUP_COUNT"
         },
         "tracegroupgap": 0
        },
        "shapes": [
         {
          "layer": "below",
          "line": {
           "color": "black",
           "width": 10
          },
          "type": "line",
          "x0": 0,
          "x1": 1,
          "xref": "x domain",
          "y0": 4,
          "y1": 4,
          "yref": "y"
         },
         {
          "layer": "below",
          "line": {
           "color": "black",
           "width": 10
          },
          "type": "line",
          "x0": 0,
          "x1": 1,
          "xref": "x domain",
          "y0": 20,
          "y1": 20,
          "yref": "y"
         },
         {
          "layer": "below",
          "line": {
           "color": "black",
           "width": 10
          },
          "type": "line",
          "x0": 0,
          "x1": 1,
          "xref": "x domain",
          "y0": 23,
          "y1": 23,
          "yref": "y"
         },
         {
          "layer": "below",
          "line": {
           "color": "black",
           "width": 10
          },
          "type": "line",
          "x0": 0,
          "x1": 1,
          "xref": "x domain",
          "y0": 31,
          "y1": 31,
          "yref": "y"
         },
         {
          "layer": "below",
          "line": {
           "color": "black",
           "width": 10
          },
          "type": "line",
          "x0": 0,
          "x1": 1,
          "xref": "x domain",
          "y0": 50,
          "y1": 50,
          "yref": "y"
         },
         {
          "line": {
           "color": "green",
           "dash": "dash",
           "width": 2
          },
          "type": "line",
          "x0": 1731571200000,
          "x1": 1731571200000,
          "xref": "x",
          "y0": 0,
          "y1": 1,
          "yref": "y domain"
         }
        ],
        "showlegend": false,
        "template": {
         "data": {
          "pie": [
           {
            "automargin": true,
            "type": "pie"
           }
          ],
          "scatter": [
           {
            "line": {
             "width": 3
            },
            "marker": {
             "size": 9
            },
            "type": "scatter"
           }
          ],
          "scatter3d": [
           {
            "line": {
             "width": 3
            },
            "marker": {
             "size": 9
            },
            "type": "scatter3d"
           }
          ],
          "scattergeo": [
           {
            "line": {
             "width": 3
            },
            "marker": {
             "size": 9
            },
            "type": "scattergeo"
           }
          ],
          "scattergl": [
           {
            "line": {
             "width": 3
            },
            "marker": {
             "size": 9
            },
            "type": "scattergl"
           }
          ],
          "scatterpolar": [
           {
            "line": {
             "width": 3
            },
            "marker": {
             "size": 9
            },
            "type": "scatterpolar"
           }
          ],
          "scatterpolargl": [
           {
            "line": {
             "width": 3
            },
            "marker": {
             "size": 9
            },
            "type": "scatterpolargl"
           }
          ],
          "scatterternary": [
           {
            "line": {
             "width": 3
            },
            "marker": {
             "size": 9
            },
            "type": "scatterternary"
           }
          ],
          "table": [
           {
            "cells": {
             "height": 30
            },
            "header": {
             "height": 36
            },
            "type": "table"
           }
          ]
         },
         "layout": {
          "font": {
           "size": 18
          },
          "xaxis": {
           "title": {
            "standoff": 15
           }
          },
          "yaxis": {
           "title": {
            "standoff": 15
           }
          }
         }
        },
        "title": {
         "automargin": false,
         "font": {
          "size": 24
         },
         "text": "Shuttered Canadien Coal Mines<br><sup>Closed mines that operated for 25+ years",
         "x": 0,
         "yref": "paper"
        },
        "width": 1000,
        "xaxis": {
         "anchor": "y",
         "domain": [
          0,
          1
         ],
         "side": "top",
         "tickfont": {
          "size": 16
         },
         "type": "date"
        },
        "yaxis": {
         "anchor": "x",
         "automargin": true,
         "categoryorder": "category descending",
         "domain": [
          0,
          1
         ],
         "dtick": 0.01,
         "side": "right",
         "tickfont": {
          "size": 16
         },
         "tickmode": "array",
         "ticktext": [
          " <b>ALBERTA</b>",
          " Canmore Mines Ltd., The",
          " Brazeau Collieries Ltd. ",
          " Midland Coal Mining Co. Ltd.",
          " Manalta Coal Ltd.",
          " Red Deer Valley Coal Co. Ltd. ",
          " Sissons Mines Ltd.",
          " Luscar Coals Ltd. ",
          " Alberta Power Limited",
          " Lethbridge Collieries Ltd. ",
          " Charter Coals Ltd.",
          " Egg Kale Coal Co. Ltd. ",
          " Alberta Coal Sales Ltd.",
          " Star-Key Mines Ltd. ",
          " Stettler Coal Co. Ltd.",
          " Alberta Southern Coal Co. Ltd. ",
          " Manalta Coal Ltd.",
          " Forestburg Collieries Ltd. ",
          " Battle River Coal Ltd. ",
          " <b>BRITISH COLUMBIA</b>",
          " Comox Mining Co. Ltd. ",
          " Crow's Nest Pass Coal Co. Ltd. ",
          " Coleman Collieries Ltd. ",
          " Fording Coal Limited",
          " Crows Nest Resources Ltd.",
          " Westar Mining Corporation",
          " Quinsam Coal Ltd.",
          " <b>NEW BRUNSWICK</b>",
          " Miramichi Lumber Co. Ltd. ",
          " N.B Coal Ltd.",
          " <b>NOVA SCOTIA</b>",
          " Drummond Coal Ltd.",
          " Joggins Coal Co. ",
          " Cape Breton Development Corp., (DEVCO),",
          " Bras D'Or Coal Co. Ltd.",
          " Dominion Steel and Coal Corp. Ltd.",
          " Springhill Coal Mines Ltd. ",
          " Indian Cove Coal Co. ",
          " Greenwood Coal Co. Ltd. ",
          " Dominion Coal Co. Ltd.",
          " Dominion Steel and Coal Corp. Ltd.,",
          " Thomas Brogan & Son",
          " Evans Coal Mines Ltd. ",
          " Novaco Ltd.",
          " Cape Breton Development Corp., (DEVCO)",
          " Pioneer Coal Co. Ltd. ",
          " <b>SASKATCHEWAN</b>",
          " Portal Coals Ltd. ",
          " Western Dominion Coal Mines Ltd. ",
          " Saskatchewan Power Corp.",
          " Luscar Ltd."
         ],
         "tickvals": [
          "  1.00: <b>ALBERTA</b>",
          "  1.01: Canmore Mines Ltd., The",
          "  1.02: Brazeau Collieries Ltd. ",
          "  1.03: Midland Coal Mining Co. Ltd.",
          "  1.04: Manalta Coal Ltd.",
          "  1.05: Red Deer Valley Coal Co. Ltd. ",
          "  1.06: Sissons Mines Ltd.",
          "  1.07: Luscar Coals Ltd. ",
          "  1.08: Alberta Power Limited",
          "  1.09: Lethbridge Collieries Ltd. ",
          "  1.10: Charter Coals Ltd.",
          "  1.13: Egg Kale Coal Co. Ltd. ",
          "  1.15: Alberta Coal Sales Ltd.",
          "  1.16: Star-Key Mines Ltd. ",
          "  1.17: Stettler Coal Co. Ltd.",
          "  1.20: Alberta Southern Coal Co. Ltd. ",
          "  1.23: Manalta Coal Ltd.",
          "  1.25: Forestburg Collieries Ltd. ",
          "  1.28: Battle River Coal Ltd. ",
          "  2.00: <b>BRITISH COLUMBIA</b>",
          "  2.01: Comox Mining Co. Ltd. ",
          "  2.02: Crow's Nest Pass Coal Co. Ltd. ",
          "  2.03: Coleman Collieries Ltd. ",
          "  2.04: Fording Coal Limited",
          "  2.05: Crows Nest Resources Ltd.",
          "  2.06: Westar Mining Corporation",
          "  2.09: Quinsam Coal Ltd.",
          "  3.00: <b>NEW BRUNSWICK</b>",
          "  3.01: Miramichi Lumber Co. Ltd. ",
          "  3.09: N.B Coal Ltd.",
          "  4.00: <b>NOVA SCOTIA</b>",
          "  4.01: Drummond Coal Ltd.",
          "  4.02: Joggins Coal Co. ",
          "  4.03: Cape Breton Development Corp., (DEVCO),",
          "  4.04: Bras D'Or Coal Co. Ltd.",
          "  4.05: Dominion Steel and Coal Corp. Ltd.",
          "  4.06: Springhill Coal Mines Ltd. ",
          "  4.07: Indian Cove Coal Co. ",
          "  4.08: Greenwood Coal Co. Ltd. ",
          "  4.09: Dominion Coal Co. Ltd.",
          "  4.10: Dominion Steel and Coal Corp. Ltd.,",
          "  4.12: Thomas Brogan & Son",
          "  4.13: Evans Coal Mines Ltd. ",
          "  4.16: Novaco Ltd.",
          "  4.17: Cape Breton Development Corp., (DEVCO)",
          "  4.18: Pioneer Coal Co. Ltd. ",
          "  5.00: <b>SASKATCHEWAN</b>",
          "  5.01: Portal Coals Ltd. ",
          "  5.02: Western Dominion Coal Mines Ltd. ",
          "  5.03: Saskatchewan Power Corp.",
          "  5.05: Luscar Ltd."
         ],
         "title": {
          "text": ""
         }
        }
       }
      }
     },
     "metadata": {},
     "output_type": "display_data"
    }
   ],
   "source": [
    "from datetime import datetime\n",
    "import polars as pl\n",
    "import plotly.express as px\n",
    "\n",
    "# constants\n",
    "MIN_YEARS = 25  # gantt chart includes mines with MIN_YEAR or more of service\n",
    "SOURCE_LOCAL = False # if True, data from csv, if False data from get git-repo\n",
    "today = datetime.now().strftime('%Y_%m_%d')\n",
    "local_csv = 'week_45_data.csv'\n",
    "\n",
    "#------------------------------------------------------------------------------#\n",
    "#     initialize dataframe df_source from local file or git repo\n",
    "#------------------------------------------------------------------------------#\n",
    "if SOURCE_LOCAL:\n",
    "    # this path reads data previously saved to local drive\n",
    "    df_source = (\n",
    "        pl.scan_csv(local_csv, ignore_errors=True)\n",
    "        .collect()\n",
    "    )\n",
    "else:\n",
    "    # this path downloads the data from an external git repository\n",
    "    web_csv = (  # file name split over 2 lines, PEP-8\n",
    "        'https://raw.githubusercontent.com/plotly/Figure-Friday/refs/heads/' +\n",
    "        'main/2024/week-45/mines-of-Canada-1950-2022.csv'\n",
    "    )\n",
    "    df_source = (\n",
    "        pl.read_csv(web_csv,ignore_errors=True)\n",
    "        .filter(pl.col('close1').str.to_uppercase() != 'OPEN')\n",
    "        .filter(pl.col('commodityall').str.contains('Coal'))\n",
    "        .rename(\n",
    "            {   # clean up selected column names\n",
    "                'company1' : 'COMPANY',\n",
    "                'namemine' : 'MINE',\n",
    "                'town'     : 'TOWN',\n",
    "                'province' : 'PROVINCE',\n",
    "                'open1'    : 'YEAR_OPENED',\n",
    "                'close1'   : 'YEAR_CLOSED'\n",
    "            }\n",
    "        )\n",
    "        .with_columns(pl.col('YEAR_OPENED', 'YEAR_CLOSED').cast(pl.Int16))\n",
    "    )\n",
    "    # data has been read from git-repo, so save a local copy\n",
    "    df_source.write_csv(local_csv)\n",
    "\n",
    "#------------------------------------------------------------------------------#\n",
    "#     add DATE_OPENED and DATE_CLOSED as Date columns, needed for timeline \n",
    "#------------------------------------------------------------------------------#\n",
    "df = (\n",
    "    df_source\n",
    "    .with_columns(\n",
    "        DATE_OPENED = pl.col('YEAR_OPENED')\n",
    "                        .cast(pl.String)\n",
    "                        .str.strptime(pl.Date, format='%Y')\n",
    "    )\n",
    "    .with_columns(\n",
    "        DATE_CLOSED = pl.col('YEAR_CLOSED')\n",
    "                        .cast(pl.String)\n",
    "                        .str.strptime(pl.Date, format='%Y')\n",
    "    )\n",
    "    .select(pl.col('COMPANY', 'MINE', 'TOWN', 'PROVINCE',\n",
    "               'DATE_OPENED', 'DATE_CLOSED', 'YEAR_OPENED', 'YEAR_CLOSED')\n",
    "            )\n",
    "\n",
    "    .sort(['PROVINCE', 'DATE_OPENED'])\n",
    ")\n",
    "\n",
    "#------------------------------------------------------------------------------#\n",
    "#     Use province names as section titles, indexed with integer-like values,\n",
    "#     1, 2, 3, etc. S. Section members are coal mines, with incremental index \n",
    "#     values of 1.01, 1.02, etc. Each province group has a first row that will\n",
    "#     be formatted as a section head  \n",
    "#------------------------------------------------------------------------------#\n",
    "province_list = sorted(list(set(df['PROVINCE'])))\n",
    "# Add header row above the data of each province\n",
    "df_list = []\n",
    "for i, province in enumerate(province_list):\n",
    "    opened = ( # 1st row, opened is the earliest year opened\n",
    "        df     # of all coal mines in this province\n",
    "        .filter(pl.col('PROVINCE') == province)\n",
    "        .select(pl.col('DATE_OPENED'))\n",
    "        .min().to_series()[0]\n",
    "    )\n",
    "    closed = (  # closed is the last year closed of all coal mines\n",
    "        df      # in this province\n",
    "        .filter(pl.col('PROVINCE') == province)\n",
    "        .select(pl.col('DATE_CLOSED'))\n",
    "        .max().to_series()[0]\n",
    "    )\n",
    "    df_first_row = (   # here is the data frame for 1st row of province group\n",
    "        pl.DataFrame(\n",
    "            {\n",
    "                'COMPANY'      : '<b>' + province.upper() + '</b>',\n",
    "                'MINE'         : '',\n",
    "                'TOWN'         : '',\n",
    "                'PROVINCE'     : province,\n",
    "                'DATE_OPENED'  : opened,\n",
    "                'DATE_CLOSED'  : closed,\n",
    "                'YEAR_OPENED'  : opened.year,\n",
    "                'YEAR_CLOSED'  : closed.year,\n",
    "            }\n",
    "        )\n",
    "        .with_columns(pl.col('YEAR_OPENED', 'YEAR_CLOSED').cast(pl.Int16))\n",
    "    )\n",
    "    df_province = ( # finsh province group with concat of 1st row and all others\n",
    "        pl.concat(\n",
    "            [\n",
    "                df_first_row,\n",
    "                df\n",
    "                .filter(pl.col('PROVINCE') == province)\n",
    "                .sort('DATE_OPENED', descending=False)\n",
    "            ]\n",
    "        )\n",
    "        # temporary columns GROUP, GROUP_COUNT used for calculating item #\n",
    "        .with_columns(GROUP = pl.lit(i+1))\n",
    "        .with_columns(GROUP_COUNT = pl.col('GROUP').cum_count().over('GROUP') - 1)\n",
    "        .with_columns(ITEM = (   # ITEM serves a row index\n",
    "            pl.col('GROUP') + pl.col('GROUP_COUNT')/100.0).cast(pl.Float32()))\n",
    "        .with_columns(\n",
    "            ITEM_COMPANY = (\n",
    "                pl.lit('  ')  +  \n",
    "                pl.col('ITEM').cast(pl.Utf8).str.pad_end(4, '0')\n",
    "                + pl.lit(': ') \n",
    "                + pl.col('COMPANY')\n",
    "            ),\n",
    "        )\n",
    "        .with_columns(\n",
    "            YEAR_OPENED = (pl.col('DATE_OPENED').dt.year().cast(pl.Int32)),\n",
    "            YEAR_CLOSED = (pl.col('DATE_CLOSED').dt.year().cast(pl.Int32))                                      \n",
    "        )\n",
    "        .with_columns(\n",
    "            DURATION_YEARS = (pl.col('YEAR_CLOSED') - pl.col('YEAR_OPENED'))\n",
    "        )\n",
    "        .with_columns(\n",
    "            MINE = pl.when(pl.col('MINE').is_null())\n",
    "                     .then(pl.lit('None'))\n",
    "                     .otherwise('MINE')\n",
    "        )\n",
    "        .with_columns(\n",
    "            TOWN = pl.when(pl.col('TOWN').is_null())\n",
    "                     .then(pl.lit('No Name Town'))\n",
    "                     .otherwise('TOWN')\n",
    "        )\n",
    "        .filter(pl.col('DURATION_YEARS') >= MIN_YEARS)\n",
    "    )\n",
    "    # provinces need 2 or more rows, as first row is only a header\n",
    "    if len(df_province) > 1:\n",
    "        df_list.append(df_province)\n",
    "\n",
    "df = pl.concat(df_list)  # this is the final step of data frame creation\n",
    "\n",
    "#------------------------------------------------------------------------------#\n",
    "#     plolty timeline\n",
    "#------------------------------------------------------------------------------#\n",
    "my_title = 'Shuttered Canadien Coal Mines<br>'\n",
    "my_title += f'<sup>Closed mines that operated for {MIN_YEARS}+ years'\n",
    "fig = px.timeline(   # DATE_OPENED AND DATE_CLOSED are type Date\n",
    "    df,\n",
    "    x_start='DATE_OPENED',\n",
    "    x_end='DATE_CLOSED',\n",
    "    y = 'ITEM_COMPANY',   # index has been prepended to COMPANY for sorting\n",
    "    title = my_title,\n",
    "    height = 1400,\n",
    "    width = 1000,\n",
    "    color='GROUP_COUNT',\n",
    "    custom_data=['COMPANY', 'TOWN', 'PROVINCE',  'MINE', \n",
    "                 'YEAR_OPENED', 'YEAR_CLOSED', 'DURATION_YEARS']\n",
    ")\n",
    "\n",
    "fig.update_yaxes(categoryorder='category descending', automargin=True)\n",
    "fig.update_layout(\n",
    "    title=dict(font=dict(size=24), automargin=False, yref='paper'))\n",
    "fig.update_layout(\n",
    "    yaxis = dict( tickfont = dict(size=16), tickmode = 'linear', dtick=0.01))\n",
    "fig.update_layout(xaxis = dict( tickfont = dict(size=16)))\n",
    "\n",
    "fig.update_layout(\n",
    "    xaxis={'side': 'top'}, \n",
    "    yaxis={'side': 'right'},\n",
    "    template = 'presentation',\n",
    "    yaxis_title = '',\n",
    ")\n",
    "\n",
    "#------------------------------------------------------------------------------#\n",
    "#     Use list comprehension to find integer-like ITEM#s to use as group heads\n",
    "#------------------------------------------------------------------------------#\n",
    "int_items = [\n",
    "    i for i, x in enumerate(df['ITEM'].sort(descending=True).to_list()) \n",
    "    if x == round(x, 0)\n",
    "]\n",
    "for item_num in int_items:  # put thick horiz line on province group head\n",
    "    fig.add_hline(\n",
    "        y=item_num, \n",
    "        line_width=10, \n",
    "        line_color='black', \n",
    "        layer='below'\n",
    "        )\n",
    "\n",
    "#------------------------------------------------------------------------------#\n",
    "#     Add vertical line on today's date. Useful when using timeline for project\n",
    "#     schedule, not useful in this case where date resolution is by year. x is\n",
    "#     number of milliseconds since epoch, used as a workaround\n",
    "#------------------------------------------------------------------------------#\n",
    "fig.add_vline(\n",
    "    x=datetime.strptime(today, \"%Y_%m_%d\").timestamp() * 1000,\n",
    "    line_width=2, \n",
    "    line_color=\"green\", \n",
    "    line_dash=\"dash\", \n",
    "    annotation_text=str(datetime.now().strftime('%b %d')),\n",
    "    annotation_position='bottom',\n",
    "    annotation_font_size=20\n",
    ")\n",
    "#------------------------------------------------------------------------------#\n",
    "#     customize hover template, uses columns from px.timeline, custom_data\n",
    "#------------------------------------------------------------------------------#\n",
    "fig.update_traces(\n",
    "    hovertemplate=\"<br>\".join([\n",
    "        '<b>%{customdata[0]}</b>',\n",
    "        '%{customdata[1]}, %{customdata[2]}',\n",
    "        'Mine Name: %{customdata[3]}',\n",
    "        '%{customdata[4]} to %{customdata[5]}',\n",
    "        '(%{customdata[6]:.0f} Years)',\n",
    "        '<extra></extra>'\n",
    "    ])\n",
    ")\n",
    "\n",
    "fig.update_layout(\n",
    "    hoverlabel=dict(font=dict(family='sans-serif', size=16)),\n",
    "    showlegend=False,\n",
    "    title_x=0\n",
    "    )\n",
    "\n",
    "#------------------------------------------------------------------------------#\n",
    "#     fix y labels, for example '1.03 - Mine XYZ' becomes 'Mine XYZ'\n",
    "#------------------------------------------------------------------------------#\n",
    "y_ticks = df['ITEM_COMPANY']\n",
    "fig.update_yaxes(\n",
    "    tickmode='array',\n",
    "    tickvals=y_ticks,\n",
    "    ticktext=[y[7:] for y in y_ticks]  # strips away first 7 characters\n",
    ")\n",
    "\n",
    "fig.show()\n",
    "fig.write_html('Shuttered_Coal_Mines.html')\n"
   ]
  }
 ],
 "metadata": {
  "kernelspec": {
   "display_name": "base",
   "language": "python",
   "name": "python3"
  },
  "language_info": {
   "codemirror_mode": {
    "name": "ipython",
    "version": 3
   },
   "file_extension": ".py",
   "mimetype": "text/x-python",
   "name": "python",
   "nbconvert_exporter": "python",
   "pygments_lexer": "ipython3",
   "version": "3.11.10"
  }
 },
 "nbformat": 4,
 "nbformat_minor": 5
}
