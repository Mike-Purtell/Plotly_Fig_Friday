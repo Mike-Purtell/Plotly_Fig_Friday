{
 "cells": [
  {
   "cell_type": "markdown",
   "id": "ce0238ea-6930-4a02-ace7-ae0d786c43f7",
   "metadata": {},
   "source": [
    "### Plotly Figure Friday - 2024 week 43 - Repairs"
   ]
  },
  {
   "cell_type": "code",
   "execution_count": 43,
   "id": "ff932d34",
   "metadata": {},
   "outputs": [
    {
     "data": {
      "application/vnd.plotly.v1+json": {
       "config": {
        "plotlyServerURL": "https://plot.ly"
       },
       "data": [
        {
         "hovertemplate": "%{y}",
         "legendgroup": "Fixed",
         "marker": {
          "color": "#1F77B4",
          "symbol": "circle"
         },
         "mode": "lines+markers",
         "name": "Fixed",
         "orientation": "v",
         "showlegend": true,
         "type": "scatter",
         "x": [
          null,
          0,
          1,
          2,
          3,
          4,
          5,
          6,
          7,
          8,
          9,
          10,
          11,
          12,
          13,
          14,
          15,
          16,
          17,
          18,
          19,
          20,
          21,
          22,
          23,
          24,
          25,
          26,
          27,
          28,
          29,
          30,
          31,
          32,
          33,
          34,
          35,
          36,
          37,
          38,
          39,
          40,
          41,
          42,
          43,
          44,
          45,
          46,
          47,
          48,
          49,
          50,
          51,
          52,
          53,
          54,
          55,
          56,
          57,
          58,
          59,
          60,
          61,
          62,
          63,
          64,
          65,
          66,
          67,
          68,
          69,
          70,
          71,
          72,
          73,
          74,
          75,
          76,
          77,
          78,
          79,
          80,
          81,
          82,
          83,
          84,
          86,
          87,
          88,
          89,
          90,
          91,
          92,
          93,
          94,
          97,
          98,
          99,
          100,
          101,
          102,
          103,
          104,
          105,
          106,
          108,
          109,
          110,
          112,
          113,
          114,
          118,
          119,
          120,
          121,
          122
         ],
         "xaxis": "x",
         "y": [
          23496,
          194,
          615,
          1024,
          1214,
          1210,
          1202,
          809,
          716,
          809,
          510,
          986,
          357,
          421,
          441,
          360,
          302,
          152,
          207,
          389,
          341,
          320,
          181,
          358,
          377,
          274,
          117,
          62,
          81,
          115,
          106,
          107,
          64,
          77,
          102,
          94,
          36,
          40,
          46,
          75,
          88,
          66,
          32,
          69,
          104,
          92,
          16,
          18,
          39,
          45,
          54,
          39,
          27,
          51,
          70,
          66,
          13,
          8,
          16,
          19,
          28,
          14,
          19,
          26,
          44,
          34,
          5,
          4,
          6,
          16,
          24,
          5,
          8,
          8,
          26,
          25,
          3,
          2,
          2,
          2,
          6,
          3,
          3,
          5,
          12,
          10,
          null,
          1,
          3,
          8,
          2,
          1,
          6,
          14,
          5,
          1,
          7,
          9,
          11,
          5,
          2,
          8,
          3,
          1,
          null,
          1,
          3,
          1,
          1,
          2,
          3,
          2,
          null,
          null,
          null,
          1
         ],
         "yaxis": "y"
        },
        {
         "hovertemplate": "%{y}",
         "legendgroup": "End of life",
         "marker": {
          "color": "#FF7F0E",
          "symbol": "circle"
         },
         "mode": "lines+markers",
         "name": "End of life",
         "orientation": "v",
         "showlegend": true,
         "type": "scatter",
         "x": [
          null,
          0,
          1,
          2,
          3,
          4,
          5,
          6,
          7,
          8,
          9,
          10,
          11,
          12,
          13,
          14,
          15,
          16,
          17,
          18,
          19,
          20,
          21,
          22,
          23,
          24,
          25,
          26,
          27,
          28,
          29,
          30,
          31,
          32,
          33,
          34,
          35,
          36,
          37,
          38,
          39,
          40,
          41,
          42,
          43,
          44,
          45,
          46,
          47,
          48,
          49,
          50,
          51,
          52,
          53,
          54,
          55,
          56,
          57,
          58,
          59,
          60,
          61,
          62,
          63,
          64,
          65,
          66,
          67,
          68,
          69,
          70,
          71,
          72,
          73,
          74,
          75,
          76,
          77,
          78,
          79,
          80,
          81,
          82,
          83,
          84,
          86,
          87,
          88,
          89,
          90,
          91,
          92,
          93,
          94,
          97,
          98,
          99,
          100,
          101,
          102,
          103,
          104,
          105,
          106,
          108,
          109,
          110,
          112,
          113,
          114,
          118,
          119,
          120,
          121,
          122
         ],
         "xaxis": "x",
         "y": [
          13625,
          121,
          381,
          686,
          815,
          803,
          816,
          510,
          452,
          543,
          335,
          612,
          260,
          248,
          300,
          219,
          205,
          107,
          160,
          232,
          228,
          189,
          93,
          169,
          189,
          152,
          65,
          41,
          30,
          48,
          49,
          47,
          23,
          50,
          64,
          51,
          21,
          18,
          20,
          29,
          37,
          26,
          19,
          19,
          51,
          28,
          5,
          5,
          16,
          17,
          21,
          14,
          14,
          19,
          36,
          18,
          5,
          4,
          6,
          15,
          8,
          12,
          3,
          9,
          25,
          8,
          3,
          3,
          2,
          3,
          10,
          5,
          2,
          2,
          18,
          4,
          null,
          1,
          null,
          3,
          1,
          null,
          3,
          1,
          4,
          4,
          2,
          null,
          null,
          3,
          1,
          1,
          1,
          4,
          3,
          null,
          1,
          3,
          5,
          null,
          1,
          4,
          3,
          null,
          null,
          null,
          null,
          null,
          null,
          null,
          1,
          null,
          null,
          1,
          null,
          2
         ],
         "yaxis": "y"
        },
        {
         "hovertemplate": "%{y}",
         "legendgroup": "Repairable",
         "marker": {
          "color": "#2CA02C",
          "symbol": "circle"
         },
         "mode": "lines+markers",
         "name": "Repairable",
         "orientation": "v",
         "showlegend": true,
         "type": "scatter",
         "x": [
          null,
          0,
          1,
          2,
          3,
          4,
          5,
          6,
          7,
          8,
          9,
          10,
          11,
          12,
          13,
          14,
          15,
          16,
          17,
          18,
          19,
          20,
          21,
          22,
          23,
          24,
          25,
          26,
          27,
          28,
          29,
          30,
          31,
          32,
          33,
          34,
          35,
          36,
          37,
          38,
          39,
          40,
          41,
          42,
          43,
          44,
          45,
          46,
          47,
          48,
          49,
          50,
          51,
          52,
          53,
          54,
          55,
          56,
          57,
          58,
          59,
          60,
          61,
          62,
          63,
          64,
          65,
          66,
          67,
          68,
          69,
          70,
          71,
          72,
          73,
          74,
          75,
          76,
          77,
          78,
          79,
          80,
          81,
          82,
          83,
          84,
          86,
          87,
          88,
          89,
          90,
          91,
          92,
          93,
          94,
          97,
          98,
          99,
          100,
          101,
          102,
          103,
          104,
          105,
          106,
          108,
          109,
          110,
          112,
          113,
          114,
          118,
          119,
          120,
          121,
          122
         ],
         "xaxis": "x",
         "y": [
          7026,
          53,
          207,
          330,
          360,
          419,
          395,
          295,
          220,
          257,
          175,
          295,
          121,
          130,
          137,
          106,
          85,
          53,
          48,
          90,
          117,
          92,
          43,
          52,
          101,
          61,
          20,
          15,
          19,
          23,
          23,
          25,
          15,
          24,
          34,
          32,
          8,
          8,
          15,
          21,
          22,
          20,
          16,
          17,
          27,
          22,
          9,
          4,
          15,
          9,
          3,
          15,
          9,
          11,
          21,
          17,
          4,
          7,
          1,
          5,
          8,
          5,
          5,
          12,
          6,
          10,
          null,
          null,
          3,
          3,
          10,
          4,
          3,
          6,
          8,
          9,
          1,
          null,
          null,
          3,
          1,
          2,
          null,
          null,
          3,
          3,
          null,
          1,
          1,
          3,
          1,
          1,
          5,
          2,
          5,
          null,
          1,
          1,
          null,
          null,
          2,
          2,
          null,
          null,
          1,
          null,
          null,
          2,
          null,
          null,
          null,
          null,
          1,
          null,
          1,
          1
         ],
         "yaxis": "y"
        }
       ],
       "layout": {
        "height": 500,
        "hovermode": "x unified",
        "legend": {
         "title": {},
         "tracegroupgap": 0
        },
        "margin": {
         "t": 60
        },
        "template": {
         "data": {
          "bar": [
           {
            "error_x": {
             "color": "rgb(36,36,36)"
            },
            "error_y": {
             "color": "rgb(36,36,36)"
            },
            "marker": {
             "line": {
              "color": "white",
              "width": 0.5
             },
             "pattern": {
              "fillmode": "overlay",
              "size": 10,
              "solidity": 0.2
             }
            },
            "type": "bar"
           }
          ],
          "barpolar": [
           {
            "marker": {
             "line": {
              "color": "white",
              "width": 0.5
             },
             "pattern": {
              "fillmode": "overlay",
              "size": 10,
              "solidity": 0.2
             }
            },
            "type": "barpolar"
           }
          ],
          "carpet": [
           {
            "aaxis": {
             "endlinecolor": "rgb(36,36,36)",
             "gridcolor": "white",
             "linecolor": "white",
             "minorgridcolor": "white",
             "startlinecolor": "rgb(36,36,36)"
            },
            "baxis": {
             "endlinecolor": "rgb(36,36,36)",
             "gridcolor": "white",
             "linecolor": "white",
             "minorgridcolor": "white",
             "startlinecolor": "rgb(36,36,36)"
            },
            "type": "carpet"
           }
          ],
          "choropleth": [
           {
            "colorbar": {
             "outlinewidth": 1,
             "tickcolor": "rgb(36,36,36)",
             "ticks": "outside"
            },
            "type": "choropleth"
           }
          ],
          "contour": [
           {
            "colorbar": {
             "outlinewidth": 1,
             "tickcolor": "rgb(36,36,36)",
             "ticks": "outside"
            },
            "colorscale": [
             [
              0,
              "#440154"
             ],
             [
              0.1111111111111111,
              "#482878"
             ],
             [
              0.2222222222222222,
              "#3e4989"
             ],
             [
              0.3333333333333333,
              "#31688e"
             ],
             [
              0.4444444444444444,
              "#26828e"
             ],
             [
              0.5555555555555556,
              "#1f9e89"
             ],
             [
              0.6666666666666666,
              "#35b779"
             ],
             [
              0.7777777777777778,
              "#6ece58"
             ],
             [
              0.8888888888888888,
              "#b5de2b"
             ],
             [
              1,
              "#fde725"
             ]
            ],
            "type": "contour"
           }
          ],
          "contourcarpet": [
           {
            "colorbar": {
             "outlinewidth": 1,
             "tickcolor": "rgb(36,36,36)",
             "ticks": "outside"
            },
            "type": "contourcarpet"
           }
          ],
          "heatmap": [
           {
            "colorbar": {
             "outlinewidth": 1,
             "tickcolor": "rgb(36,36,36)",
             "ticks": "outside"
            },
            "colorscale": [
             [
              0,
              "#440154"
             ],
             [
              0.1111111111111111,
              "#482878"
             ],
             [
              0.2222222222222222,
              "#3e4989"
             ],
             [
              0.3333333333333333,
              "#31688e"
             ],
             [
              0.4444444444444444,
              "#26828e"
             ],
             [
              0.5555555555555556,
              "#1f9e89"
             ],
             [
              0.6666666666666666,
              "#35b779"
             ],
             [
              0.7777777777777778,
              "#6ece58"
             ],
             [
              0.8888888888888888,
              "#b5de2b"
             ],
             [
              1,
              "#fde725"
             ]
            ],
            "type": "heatmap"
           }
          ],
          "heatmapgl": [
           {
            "colorbar": {
             "outlinewidth": 1,
             "tickcolor": "rgb(36,36,36)",
             "ticks": "outside"
            },
            "colorscale": [
             [
              0,
              "#440154"
             ],
             [
              0.1111111111111111,
              "#482878"
             ],
             [
              0.2222222222222222,
              "#3e4989"
             ],
             [
              0.3333333333333333,
              "#31688e"
             ],
             [
              0.4444444444444444,
              "#26828e"
             ],
             [
              0.5555555555555556,
              "#1f9e89"
             ],
             [
              0.6666666666666666,
              "#35b779"
             ],
             [
              0.7777777777777778,
              "#6ece58"
             ],
             [
              0.8888888888888888,
              "#b5de2b"
             ],
             [
              1,
              "#fde725"
             ]
            ],
            "type": "heatmapgl"
           }
          ],
          "histogram": [
           {
            "marker": {
             "line": {
              "color": "white",
              "width": 0.6
             }
            },
            "type": "histogram"
           }
          ],
          "histogram2d": [
           {
            "colorbar": {
             "outlinewidth": 1,
             "tickcolor": "rgb(36,36,36)",
             "ticks": "outside"
            },
            "colorscale": [
             [
              0,
              "#440154"
             ],
             [
              0.1111111111111111,
              "#482878"
             ],
             [
              0.2222222222222222,
              "#3e4989"
             ],
             [
              0.3333333333333333,
              "#31688e"
             ],
             [
              0.4444444444444444,
              "#26828e"
             ],
             [
              0.5555555555555556,
              "#1f9e89"
             ],
             [
              0.6666666666666666,
              "#35b779"
             ],
             [
              0.7777777777777778,
              "#6ece58"
             ],
             [
              0.8888888888888888,
              "#b5de2b"
             ],
             [
              1,
              "#fde725"
             ]
            ],
            "type": "histogram2d"
           }
          ],
          "histogram2dcontour": [
           {
            "colorbar": {
             "outlinewidth": 1,
             "tickcolor": "rgb(36,36,36)",
             "ticks": "outside"
            },
            "colorscale": [
             [
              0,
              "#440154"
             ],
             [
              0.1111111111111111,
              "#482878"
             ],
             [
              0.2222222222222222,
              "#3e4989"
             ],
             [
              0.3333333333333333,
              "#31688e"
             ],
             [
              0.4444444444444444,
              "#26828e"
             ],
             [
              0.5555555555555556,
              "#1f9e89"
             ],
             [
              0.6666666666666666,
              "#35b779"
             ],
             [
              0.7777777777777778,
              "#6ece58"
             ],
             [
              0.8888888888888888,
              "#b5de2b"
             ],
             [
              1,
              "#fde725"
             ]
            ],
            "type": "histogram2dcontour"
           }
          ],
          "mesh3d": [
           {
            "colorbar": {
             "outlinewidth": 1,
             "tickcolor": "rgb(36,36,36)",
             "ticks": "outside"
            },
            "type": "mesh3d"
           }
          ],
          "parcoords": [
           {
            "line": {
             "colorbar": {
              "outlinewidth": 1,
              "tickcolor": "rgb(36,36,36)",
              "ticks": "outside"
             }
            },
            "type": "parcoords"
           }
          ],
          "pie": [
           {
            "automargin": true,
            "type": "pie"
           }
          ],
          "scatter": [
           {
            "fillpattern": {
             "fillmode": "overlay",
             "size": 10,
             "solidity": 0.2
            },
            "type": "scatter"
           }
          ],
          "scatter3d": [
           {
            "line": {
             "colorbar": {
              "outlinewidth": 1,
              "tickcolor": "rgb(36,36,36)",
              "ticks": "outside"
             }
            },
            "marker": {
             "colorbar": {
              "outlinewidth": 1,
              "tickcolor": "rgb(36,36,36)",
              "ticks": "outside"
             }
            },
            "type": "scatter3d"
           }
          ],
          "scattercarpet": [
           {
            "marker": {
             "colorbar": {
              "outlinewidth": 1,
              "tickcolor": "rgb(36,36,36)",
              "ticks": "outside"
             }
            },
            "type": "scattercarpet"
           }
          ],
          "scattergeo": [
           {
            "marker": {
             "colorbar": {
              "outlinewidth": 1,
              "tickcolor": "rgb(36,36,36)",
              "ticks": "outside"
             }
            },
            "type": "scattergeo"
           }
          ],
          "scattergl": [
           {
            "marker": {
             "colorbar": {
              "outlinewidth": 1,
              "tickcolor": "rgb(36,36,36)",
              "ticks": "outside"
             }
            },
            "type": "scattergl"
           }
          ],
          "scattermapbox": [
           {
            "marker": {
             "colorbar": {
              "outlinewidth": 1,
              "tickcolor": "rgb(36,36,36)",
              "ticks": "outside"
             }
            },
            "type": "scattermapbox"
           }
          ],
          "scatterpolar": [
           {
            "marker": {
             "colorbar": {
              "outlinewidth": 1,
              "tickcolor": "rgb(36,36,36)",
              "ticks": "outside"
             }
            },
            "type": "scatterpolar"
           }
          ],
          "scatterpolargl": [
           {
            "marker": {
             "colorbar": {
              "outlinewidth": 1,
              "tickcolor": "rgb(36,36,36)",
              "ticks": "outside"
             }
            },
            "type": "scatterpolargl"
           }
          ],
          "scatterternary": [
           {
            "marker": {
             "colorbar": {
              "outlinewidth": 1,
              "tickcolor": "rgb(36,36,36)",
              "ticks": "outside"
             }
            },
            "type": "scatterternary"
           }
          ],
          "surface": [
           {
            "colorbar": {
             "outlinewidth": 1,
             "tickcolor": "rgb(36,36,36)",
             "ticks": "outside"
            },
            "colorscale": [
             [
              0,
              "#440154"
             ],
             [
              0.1111111111111111,
              "#482878"
             ],
             [
              0.2222222222222222,
              "#3e4989"
             ],
             [
              0.3333333333333333,
              "#31688e"
             ],
             [
              0.4444444444444444,
              "#26828e"
             ],
             [
              0.5555555555555556,
              "#1f9e89"
             ],
             [
              0.6666666666666666,
              "#35b779"
             ],
             [
              0.7777777777777778,
              "#6ece58"
             ],
             [
              0.8888888888888888,
              "#b5de2b"
             ],
             [
              1,
              "#fde725"
             ]
            ],
            "type": "surface"
           }
          ],
          "table": [
           {
            "cells": {
             "fill": {
              "color": "rgb(237,237,237)"
             },
             "line": {
              "color": "white"
             }
            },
            "header": {
             "fill": {
              "color": "rgb(217,217,217)"
             },
             "line": {
              "color": "white"
             }
            },
            "type": "table"
           }
          ]
         },
         "layout": {
          "annotationdefaults": {
           "arrowhead": 0,
           "arrowwidth": 1
          },
          "autotypenumbers": "strict",
          "coloraxis": {
           "colorbar": {
            "outlinewidth": 1,
            "tickcolor": "rgb(36,36,36)",
            "ticks": "outside"
           }
          },
          "colorscale": {
           "diverging": [
            [
             0,
             "rgb(103,0,31)"
            ],
            [
             0.1,
             "rgb(178,24,43)"
            ],
            [
             0.2,
             "rgb(214,96,77)"
            ],
            [
             0.3,
             "rgb(244,165,130)"
            ],
            [
             0.4,
             "rgb(253,219,199)"
            ],
            [
             0.5,
             "rgb(247,247,247)"
            ],
            [
             0.6,
             "rgb(209,229,240)"
            ],
            [
             0.7,
             "rgb(146,197,222)"
            ],
            [
             0.8,
             "rgb(67,147,195)"
            ],
            [
             0.9,
             "rgb(33,102,172)"
            ],
            [
             1,
             "rgb(5,48,97)"
            ]
           ],
           "sequential": [
            [
             0,
             "#440154"
            ],
            [
             0.1111111111111111,
             "#482878"
            ],
            [
             0.2222222222222222,
             "#3e4989"
            ],
            [
             0.3333333333333333,
             "#31688e"
            ],
            [
             0.4444444444444444,
             "#26828e"
            ],
            [
             0.5555555555555556,
             "#1f9e89"
            ],
            [
             0.6666666666666666,
             "#35b779"
            ],
            [
             0.7777777777777778,
             "#6ece58"
            ],
            [
             0.8888888888888888,
             "#b5de2b"
            ],
            [
             1,
             "#fde725"
            ]
           ],
           "sequentialminus": [
            [
             0,
             "#440154"
            ],
            [
             0.1111111111111111,
             "#482878"
            ],
            [
             0.2222222222222222,
             "#3e4989"
            ],
            [
             0.3333333333333333,
             "#31688e"
            ],
            [
             0.4444444444444444,
             "#26828e"
            ],
            [
             0.5555555555555556,
             "#1f9e89"
            ],
            [
             0.6666666666666666,
             "#35b779"
            ],
            [
             0.7777777777777778,
             "#6ece58"
            ],
            [
             0.8888888888888888,
             "#b5de2b"
            ],
            [
             1,
             "#fde725"
            ]
           ]
          },
          "colorway": [
           "#1F77B4",
           "#FF7F0E",
           "#2CA02C",
           "#D62728",
           "#9467BD",
           "#8C564B",
           "#E377C2",
           "#7F7F7F",
           "#BCBD22",
           "#17BECF"
          ],
          "font": {
           "color": "rgb(36,36,36)"
          },
          "geo": {
           "bgcolor": "white",
           "lakecolor": "white",
           "landcolor": "white",
           "showlakes": true,
           "showland": true,
           "subunitcolor": "white"
          },
          "hoverlabel": {
           "align": "left"
          },
          "hovermode": "closest",
          "mapbox": {
           "style": "light"
          },
          "paper_bgcolor": "white",
          "plot_bgcolor": "white",
          "polar": {
           "angularaxis": {
            "gridcolor": "rgb(232,232,232)",
            "linecolor": "rgb(36,36,36)",
            "showgrid": false,
            "showline": true,
            "ticks": "outside"
           },
           "bgcolor": "white",
           "radialaxis": {
            "gridcolor": "rgb(232,232,232)",
            "linecolor": "rgb(36,36,36)",
            "showgrid": false,
            "showline": true,
            "ticks": "outside"
           }
          },
          "scene": {
           "xaxis": {
            "backgroundcolor": "white",
            "gridcolor": "rgb(232,232,232)",
            "gridwidth": 2,
            "linecolor": "rgb(36,36,36)",
            "showbackground": true,
            "showgrid": false,
            "showline": true,
            "ticks": "outside",
            "zeroline": false,
            "zerolinecolor": "rgb(36,36,36)"
           },
           "yaxis": {
            "backgroundcolor": "white",
            "gridcolor": "rgb(232,232,232)",
            "gridwidth": 2,
            "linecolor": "rgb(36,36,36)",
            "showbackground": true,
            "showgrid": false,
            "showline": true,
            "ticks": "outside",
            "zeroline": false,
            "zerolinecolor": "rgb(36,36,36)"
           },
           "zaxis": {
            "backgroundcolor": "white",
            "gridcolor": "rgb(232,232,232)",
            "gridwidth": 2,
            "linecolor": "rgb(36,36,36)",
            "showbackground": true,
            "showgrid": false,
            "showline": true,
            "ticks": "outside",
            "zeroline": false,
            "zerolinecolor": "rgb(36,36,36)"
           }
          },
          "shapedefaults": {
           "fillcolor": "black",
           "line": {
            "width": 0
           },
           "opacity": 0.3
          },
          "ternary": {
           "aaxis": {
            "gridcolor": "rgb(232,232,232)",
            "linecolor": "rgb(36,36,36)",
            "showgrid": false,
            "showline": true,
            "ticks": "outside"
           },
           "baxis": {
            "gridcolor": "rgb(232,232,232)",
            "linecolor": "rgb(36,36,36)",
            "showgrid": false,
            "showline": true,
            "ticks": "outside"
           },
           "bgcolor": "white",
           "caxis": {
            "gridcolor": "rgb(232,232,232)",
            "linecolor": "rgb(36,36,36)",
            "showgrid": false,
            "showline": true,
            "ticks": "outside"
           }
          },
          "title": {
           "x": 0.05
          },
          "xaxis": {
           "automargin": true,
           "gridcolor": "rgb(232,232,232)",
           "linecolor": "rgb(36,36,36)",
           "showgrid": false,
           "showline": true,
           "ticks": "outside",
           "title": {
            "standoff": 15
           },
           "zeroline": false,
           "zerolinecolor": "rgb(36,36,36)"
          },
          "yaxis": {
           "automargin": true,
           "gridcolor": "rgb(232,232,232)",
           "linecolor": "rgb(36,36,36)",
           "showgrid": false,
           "showline": true,
           "ticks": "outside",
           "title": {
            "standoff": 15
           },
           "zeroline": false,
           "zerolinecolor": "rgb(36,36,36)"
          }
         }
        },
        "title": {
         "text": "LINEAR SCALE (Y) OF REPAIR COUNTS BY PRODUCT AGE"
        },
        "width": 800,
        "xaxis": {
         "anchor": "y",
         "domain": [
          0,
          1
         ],
         "range": [
          0,
          40
         ],
         "title": {
          "text": "PRODUCT AGE [YEARS]"
         }
        },
        "yaxis": {
         "anchor": "x",
         "domain": [
          0,
          1
         ],
         "range": [
          0,
          1400
         ],
         "title": {
          "text": "LINEAR SCALE - REPAIR COUNT"
         }
        }
       }
      }
     },
     "metadata": {},
     "output_type": "display_data"
    },
    {
     "data": {
      "application/vnd.plotly.v1+json": {
       "config": {
        "plotlyServerURL": "https://plot.ly"
       },
       "data": [
        {
         "hovertemplate": "%{y}",
         "legendgroup": "Fixed",
         "marker": {
          "color": "#1F77B4",
          "symbol": "circle"
         },
         "mode": "lines+markers",
         "name": "Fixed",
         "orientation": "v",
         "showlegend": true,
         "type": "scatter",
         "x": [
          null,
          0,
          1,
          2,
          3,
          4,
          5,
          6,
          7,
          8,
          9,
          10,
          11,
          12,
          13,
          14,
          15,
          16,
          17,
          18,
          19,
          20,
          21,
          22,
          23,
          24,
          25,
          26,
          27,
          28,
          29,
          30,
          31,
          32,
          33,
          34,
          35,
          36,
          37,
          38,
          39,
          40,
          41,
          42,
          43,
          44,
          45,
          46,
          47,
          48,
          49,
          50,
          51,
          52,
          53,
          54,
          55,
          56,
          57,
          58,
          59,
          60,
          61,
          62,
          63,
          64,
          65,
          66,
          67,
          68,
          69,
          70,
          71,
          72,
          73,
          74,
          75,
          76,
          77,
          78,
          79,
          80,
          81,
          82,
          83,
          84,
          86,
          87,
          88,
          89,
          90,
          91,
          92,
          93,
          94,
          97,
          98,
          99,
          100,
          101,
          102,
          103,
          104,
          105,
          106,
          108,
          109,
          110,
          112,
          113,
          114,
          118,
          119,
          120,
          121,
          122
         ],
         "xaxis": "x",
         "y": [
          23496,
          194,
          615,
          1024,
          1214,
          1210,
          1202,
          809,
          716,
          809,
          510,
          986,
          357,
          421,
          441,
          360,
          302,
          152,
          207,
          389,
          341,
          320,
          181,
          358,
          377,
          274,
          117,
          62,
          81,
          115,
          106,
          107,
          64,
          77,
          102,
          94,
          36,
          40,
          46,
          75,
          88,
          66,
          32,
          69,
          104,
          92,
          16,
          18,
          39,
          45,
          54,
          39,
          27,
          51,
          70,
          66,
          13,
          8,
          16,
          19,
          28,
          14,
          19,
          26,
          44,
          34,
          5,
          4,
          6,
          16,
          24,
          5,
          8,
          8,
          26,
          25,
          3,
          2,
          2,
          2,
          6,
          3,
          3,
          5,
          12,
          10,
          null,
          1,
          3,
          8,
          2,
          1,
          6,
          14,
          5,
          1,
          7,
          9,
          11,
          5,
          2,
          8,
          3,
          1,
          null,
          1,
          3,
          1,
          1,
          2,
          3,
          2,
          null,
          null,
          null,
          1
         ],
         "yaxis": "y"
        },
        {
         "hovertemplate": "%{y}",
         "legendgroup": "End of life",
         "marker": {
          "color": "#FF7F0E",
          "symbol": "circle"
         },
         "mode": "lines+markers",
         "name": "End of life",
         "orientation": "v",
         "showlegend": true,
         "type": "scatter",
         "x": [
          null,
          0,
          1,
          2,
          3,
          4,
          5,
          6,
          7,
          8,
          9,
          10,
          11,
          12,
          13,
          14,
          15,
          16,
          17,
          18,
          19,
          20,
          21,
          22,
          23,
          24,
          25,
          26,
          27,
          28,
          29,
          30,
          31,
          32,
          33,
          34,
          35,
          36,
          37,
          38,
          39,
          40,
          41,
          42,
          43,
          44,
          45,
          46,
          47,
          48,
          49,
          50,
          51,
          52,
          53,
          54,
          55,
          56,
          57,
          58,
          59,
          60,
          61,
          62,
          63,
          64,
          65,
          66,
          67,
          68,
          69,
          70,
          71,
          72,
          73,
          74,
          75,
          76,
          77,
          78,
          79,
          80,
          81,
          82,
          83,
          84,
          86,
          87,
          88,
          89,
          90,
          91,
          92,
          93,
          94,
          97,
          98,
          99,
          100,
          101,
          102,
          103,
          104,
          105,
          106,
          108,
          109,
          110,
          112,
          113,
          114,
          118,
          119,
          120,
          121,
          122
         ],
         "xaxis": "x",
         "y": [
          13625,
          121,
          381,
          686,
          815,
          803,
          816,
          510,
          452,
          543,
          335,
          612,
          260,
          248,
          300,
          219,
          205,
          107,
          160,
          232,
          228,
          189,
          93,
          169,
          189,
          152,
          65,
          41,
          30,
          48,
          49,
          47,
          23,
          50,
          64,
          51,
          21,
          18,
          20,
          29,
          37,
          26,
          19,
          19,
          51,
          28,
          5,
          5,
          16,
          17,
          21,
          14,
          14,
          19,
          36,
          18,
          5,
          4,
          6,
          15,
          8,
          12,
          3,
          9,
          25,
          8,
          3,
          3,
          2,
          3,
          10,
          5,
          2,
          2,
          18,
          4,
          null,
          1,
          null,
          3,
          1,
          null,
          3,
          1,
          4,
          4,
          2,
          null,
          null,
          3,
          1,
          1,
          1,
          4,
          3,
          null,
          1,
          3,
          5,
          null,
          1,
          4,
          3,
          null,
          null,
          null,
          null,
          null,
          null,
          null,
          1,
          null,
          null,
          1,
          null,
          2
         ],
         "yaxis": "y"
        },
        {
         "hovertemplate": "%{y}",
         "legendgroup": "Repairable",
         "marker": {
          "color": "#2CA02C",
          "symbol": "circle"
         },
         "mode": "lines+markers",
         "name": "Repairable",
         "orientation": "v",
         "showlegend": true,
         "type": "scatter",
         "x": [
          null,
          0,
          1,
          2,
          3,
          4,
          5,
          6,
          7,
          8,
          9,
          10,
          11,
          12,
          13,
          14,
          15,
          16,
          17,
          18,
          19,
          20,
          21,
          22,
          23,
          24,
          25,
          26,
          27,
          28,
          29,
          30,
          31,
          32,
          33,
          34,
          35,
          36,
          37,
          38,
          39,
          40,
          41,
          42,
          43,
          44,
          45,
          46,
          47,
          48,
          49,
          50,
          51,
          52,
          53,
          54,
          55,
          56,
          57,
          58,
          59,
          60,
          61,
          62,
          63,
          64,
          65,
          66,
          67,
          68,
          69,
          70,
          71,
          72,
          73,
          74,
          75,
          76,
          77,
          78,
          79,
          80,
          81,
          82,
          83,
          84,
          86,
          87,
          88,
          89,
          90,
          91,
          92,
          93,
          94,
          97,
          98,
          99,
          100,
          101,
          102,
          103,
          104,
          105,
          106,
          108,
          109,
          110,
          112,
          113,
          114,
          118,
          119,
          120,
          121,
          122
         ],
         "xaxis": "x",
         "y": [
          7026,
          53,
          207,
          330,
          360,
          419,
          395,
          295,
          220,
          257,
          175,
          295,
          121,
          130,
          137,
          106,
          85,
          53,
          48,
          90,
          117,
          92,
          43,
          52,
          101,
          61,
          20,
          15,
          19,
          23,
          23,
          25,
          15,
          24,
          34,
          32,
          8,
          8,
          15,
          21,
          22,
          20,
          16,
          17,
          27,
          22,
          9,
          4,
          15,
          9,
          3,
          15,
          9,
          11,
          21,
          17,
          4,
          7,
          1,
          5,
          8,
          5,
          5,
          12,
          6,
          10,
          null,
          null,
          3,
          3,
          10,
          4,
          3,
          6,
          8,
          9,
          1,
          null,
          null,
          3,
          1,
          2,
          null,
          null,
          3,
          3,
          null,
          1,
          1,
          3,
          1,
          1,
          5,
          2,
          5,
          null,
          1,
          1,
          null,
          null,
          2,
          2,
          null,
          null,
          1,
          null,
          null,
          2,
          null,
          null,
          null,
          null,
          1,
          null,
          1,
          1
         ],
         "yaxis": "y"
        }
       ],
       "layout": {
        "height": 500,
        "hovermode": "x unified",
        "legend": {
         "title": {},
         "tracegroupgap": 0
        },
        "margin": {
         "t": 60
        },
        "template": {
         "data": {
          "bar": [
           {
            "error_x": {
             "color": "rgb(36,36,36)"
            },
            "error_y": {
             "color": "rgb(36,36,36)"
            },
            "marker": {
             "line": {
              "color": "white",
              "width": 0.5
             },
             "pattern": {
              "fillmode": "overlay",
              "size": 10,
              "solidity": 0.2
             }
            },
            "type": "bar"
           }
          ],
          "barpolar": [
           {
            "marker": {
             "line": {
              "color": "white",
              "width": 0.5
             },
             "pattern": {
              "fillmode": "overlay",
              "size": 10,
              "solidity": 0.2
             }
            },
            "type": "barpolar"
           }
          ],
          "carpet": [
           {
            "aaxis": {
             "endlinecolor": "rgb(36,36,36)",
             "gridcolor": "white",
             "linecolor": "white",
             "minorgridcolor": "white",
             "startlinecolor": "rgb(36,36,36)"
            },
            "baxis": {
             "endlinecolor": "rgb(36,36,36)",
             "gridcolor": "white",
             "linecolor": "white",
             "minorgridcolor": "white",
             "startlinecolor": "rgb(36,36,36)"
            },
            "type": "carpet"
           }
          ],
          "choropleth": [
           {
            "colorbar": {
             "outlinewidth": 1,
             "tickcolor": "rgb(36,36,36)",
             "ticks": "outside"
            },
            "type": "choropleth"
           }
          ],
          "contour": [
           {
            "colorbar": {
             "outlinewidth": 1,
             "tickcolor": "rgb(36,36,36)",
             "ticks": "outside"
            },
            "colorscale": [
             [
              0,
              "#440154"
             ],
             [
              0.1111111111111111,
              "#482878"
             ],
             [
              0.2222222222222222,
              "#3e4989"
             ],
             [
              0.3333333333333333,
              "#31688e"
             ],
             [
              0.4444444444444444,
              "#26828e"
             ],
             [
              0.5555555555555556,
              "#1f9e89"
             ],
             [
              0.6666666666666666,
              "#35b779"
             ],
             [
              0.7777777777777778,
              "#6ece58"
             ],
             [
              0.8888888888888888,
              "#b5de2b"
             ],
             [
              1,
              "#fde725"
             ]
            ],
            "type": "contour"
           }
          ],
          "contourcarpet": [
           {
            "colorbar": {
             "outlinewidth": 1,
             "tickcolor": "rgb(36,36,36)",
             "ticks": "outside"
            },
            "type": "contourcarpet"
           }
          ],
          "heatmap": [
           {
            "colorbar": {
             "outlinewidth": 1,
             "tickcolor": "rgb(36,36,36)",
             "ticks": "outside"
            },
            "colorscale": [
             [
              0,
              "#440154"
             ],
             [
              0.1111111111111111,
              "#482878"
             ],
             [
              0.2222222222222222,
              "#3e4989"
             ],
             [
              0.3333333333333333,
              "#31688e"
             ],
             [
              0.4444444444444444,
              "#26828e"
             ],
             [
              0.5555555555555556,
              "#1f9e89"
             ],
             [
              0.6666666666666666,
              "#35b779"
             ],
             [
              0.7777777777777778,
              "#6ece58"
             ],
             [
              0.8888888888888888,
              "#b5de2b"
             ],
             [
              1,
              "#fde725"
             ]
            ],
            "type": "heatmap"
           }
          ],
          "heatmapgl": [
           {
            "colorbar": {
             "outlinewidth": 1,
             "tickcolor": "rgb(36,36,36)",
             "ticks": "outside"
            },
            "colorscale": [
             [
              0,
              "#440154"
             ],
             [
              0.1111111111111111,
              "#482878"
             ],
             [
              0.2222222222222222,
              "#3e4989"
             ],
             [
              0.3333333333333333,
              "#31688e"
             ],
             [
              0.4444444444444444,
              "#26828e"
             ],
             [
              0.5555555555555556,
              "#1f9e89"
             ],
             [
              0.6666666666666666,
              "#35b779"
             ],
             [
              0.7777777777777778,
              "#6ece58"
             ],
             [
              0.8888888888888888,
              "#b5de2b"
             ],
             [
              1,
              "#fde725"
             ]
            ],
            "type": "heatmapgl"
           }
          ],
          "histogram": [
           {
            "marker": {
             "line": {
              "color": "white",
              "width": 0.6
             }
            },
            "type": "histogram"
           }
          ],
          "histogram2d": [
           {
            "colorbar": {
             "outlinewidth": 1,
             "tickcolor": "rgb(36,36,36)",
             "ticks": "outside"
            },
            "colorscale": [
             [
              0,
              "#440154"
             ],
             [
              0.1111111111111111,
              "#482878"
             ],
             [
              0.2222222222222222,
              "#3e4989"
             ],
             [
              0.3333333333333333,
              "#31688e"
             ],
             [
              0.4444444444444444,
              "#26828e"
             ],
             [
              0.5555555555555556,
              "#1f9e89"
             ],
             [
              0.6666666666666666,
              "#35b779"
             ],
             [
              0.7777777777777778,
              "#6ece58"
             ],
             [
              0.8888888888888888,
              "#b5de2b"
             ],
             [
              1,
              "#fde725"
             ]
            ],
            "type": "histogram2d"
           }
          ],
          "histogram2dcontour": [
           {
            "colorbar": {
             "outlinewidth": 1,
             "tickcolor": "rgb(36,36,36)",
             "ticks": "outside"
            },
            "colorscale": [
             [
              0,
              "#440154"
             ],
             [
              0.1111111111111111,
              "#482878"
             ],
             [
              0.2222222222222222,
              "#3e4989"
             ],
             [
              0.3333333333333333,
              "#31688e"
             ],
             [
              0.4444444444444444,
              "#26828e"
             ],
             [
              0.5555555555555556,
              "#1f9e89"
             ],
             [
              0.6666666666666666,
              "#35b779"
             ],
             [
              0.7777777777777778,
              "#6ece58"
             ],
             [
              0.8888888888888888,
              "#b5de2b"
             ],
             [
              1,
              "#fde725"
             ]
            ],
            "type": "histogram2dcontour"
           }
          ],
          "mesh3d": [
           {
            "colorbar": {
             "outlinewidth": 1,
             "tickcolor": "rgb(36,36,36)",
             "ticks": "outside"
            },
            "type": "mesh3d"
           }
          ],
          "parcoords": [
           {
            "line": {
             "colorbar": {
              "outlinewidth": 1,
              "tickcolor": "rgb(36,36,36)",
              "ticks": "outside"
             }
            },
            "type": "parcoords"
           }
          ],
          "pie": [
           {
            "automargin": true,
            "type": "pie"
           }
          ],
          "scatter": [
           {
            "fillpattern": {
             "fillmode": "overlay",
             "size": 10,
             "solidity": 0.2
            },
            "type": "scatter"
           }
          ],
          "scatter3d": [
           {
            "line": {
             "colorbar": {
              "outlinewidth": 1,
              "tickcolor": "rgb(36,36,36)",
              "ticks": "outside"
             }
            },
            "marker": {
             "colorbar": {
              "outlinewidth": 1,
              "tickcolor": "rgb(36,36,36)",
              "ticks": "outside"
             }
            },
            "type": "scatter3d"
           }
          ],
          "scattercarpet": [
           {
            "marker": {
             "colorbar": {
              "outlinewidth": 1,
              "tickcolor": "rgb(36,36,36)",
              "ticks": "outside"
             }
            },
            "type": "scattercarpet"
           }
          ],
          "scattergeo": [
           {
            "marker": {
             "colorbar": {
              "outlinewidth": 1,
              "tickcolor": "rgb(36,36,36)",
              "ticks": "outside"
             }
            },
            "type": "scattergeo"
           }
          ],
          "scattergl": [
           {
            "marker": {
             "colorbar": {
              "outlinewidth": 1,
              "tickcolor": "rgb(36,36,36)",
              "ticks": "outside"
             }
            },
            "type": "scattergl"
           }
          ],
          "scattermapbox": [
           {
            "marker": {
             "colorbar": {
              "outlinewidth": 1,
              "tickcolor": "rgb(36,36,36)",
              "ticks": "outside"
             }
            },
            "type": "scattermapbox"
           }
          ],
          "scatterpolar": [
           {
            "marker": {
             "colorbar": {
              "outlinewidth": 1,
              "tickcolor": "rgb(36,36,36)",
              "ticks": "outside"
             }
            },
            "type": "scatterpolar"
           }
          ],
          "scatterpolargl": [
           {
            "marker": {
             "colorbar": {
              "outlinewidth": 1,
              "tickcolor": "rgb(36,36,36)",
              "ticks": "outside"
             }
            },
            "type": "scatterpolargl"
           }
          ],
          "scatterternary": [
           {
            "marker": {
             "colorbar": {
              "outlinewidth": 1,
              "tickcolor": "rgb(36,36,36)",
              "ticks": "outside"
             }
            },
            "type": "scatterternary"
           }
          ],
          "surface": [
           {
            "colorbar": {
             "outlinewidth": 1,
             "tickcolor": "rgb(36,36,36)",
             "ticks": "outside"
            },
            "colorscale": [
             [
              0,
              "#440154"
             ],
             [
              0.1111111111111111,
              "#482878"
             ],
             [
              0.2222222222222222,
              "#3e4989"
             ],
             [
              0.3333333333333333,
              "#31688e"
             ],
             [
              0.4444444444444444,
              "#26828e"
             ],
             [
              0.5555555555555556,
              "#1f9e89"
             ],
             [
              0.6666666666666666,
              "#35b779"
             ],
             [
              0.7777777777777778,
              "#6ece58"
             ],
             [
              0.8888888888888888,
              "#b5de2b"
             ],
             [
              1,
              "#fde725"
             ]
            ],
            "type": "surface"
           }
          ],
          "table": [
           {
            "cells": {
             "fill": {
              "color": "rgb(237,237,237)"
             },
             "line": {
              "color": "white"
             }
            },
            "header": {
             "fill": {
              "color": "rgb(217,217,217)"
             },
             "line": {
              "color": "white"
             }
            },
            "type": "table"
           }
          ]
         },
         "layout": {
          "annotationdefaults": {
           "arrowhead": 0,
           "arrowwidth": 1
          },
          "autotypenumbers": "strict",
          "coloraxis": {
           "colorbar": {
            "outlinewidth": 1,
            "tickcolor": "rgb(36,36,36)",
            "ticks": "outside"
           }
          },
          "colorscale": {
           "diverging": [
            [
             0,
             "rgb(103,0,31)"
            ],
            [
             0.1,
             "rgb(178,24,43)"
            ],
            [
             0.2,
             "rgb(214,96,77)"
            ],
            [
             0.3,
             "rgb(244,165,130)"
            ],
            [
             0.4,
             "rgb(253,219,199)"
            ],
            [
             0.5,
             "rgb(247,247,247)"
            ],
            [
             0.6,
             "rgb(209,229,240)"
            ],
            [
             0.7,
             "rgb(146,197,222)"
            ],
            [
             0.8,
             "rgb(67,147,195)"
            ],
            [
             0.9,
             "rgb(33,102,172)"
            ],
            [
             1,
             "rgb(5,48,97)"
            ]
           ],
           "sequential": [
            [
             0,
             "#440154"
            ],
            [
             0.1111111111111111,
             "#482878"
            ],
            [
             0.2222222222222222,
             "#3e4989"
            ],
            [
             0.3333333333333333,
             "#31688e"
            ],
            [
             0.4444444444444444,
             "#26828e"
            ],
            [
             0.5555555555555556,
             "#1f9e89"
            ],
            [
             0.6666666666666666,
             "#35b779"
            ],
            [
             0.7777777777777778,
             "#6ece58"
            ],
            [
             0.8888888888888888,
             "#b5de2b"
            ],
            [
             1,
             "#fde725"
            ]
           ],
           "sequentialminus": [
            [
             0,
             "#440154"
            ],
            [
             0.1111111111111111,
             "#482878"
            ],
            [
             0.2222222222222222,
             "#3e4989"
            ],
            [
             0.3333333333333333,
             "#31688e"
            ],
            [
             0.4444444444444444,
             "#26828e"
            ],
            [
             0.5555555555555556,
             "#1f9e89"
            ],
            [
             0.6666666666666666,
             "#35b779"
            ],
            [
             0.7777777777777778,
             "#6ece58"
            ],
            [
             0.8888888888888888,
             "#b5de2b"
            ],
            [
             1,
             "#fde725"
            ]
           ]
          },
          "colorway": [
           "#1F77B4",
           "#FF7F0E",
           "#2CA02C",
           "#D62728",
           "#9467BD",
           "#8C564B",
           "#E377C2",
           "#7F7F7F",
           "#BCBD22",
           "#17BECF"
          ],
          "font": {
           "color": "rgb(36,36,36)"
          },
          "geo": {
           "bgcolor": "white",
           "lakecolor": "white",
           "landcolor": "white",
           "showlakes": true,
           "showland": true,
           "subunitcolor": "white"
          },
          "hoverlabel": {
           "align": "left"
          },
          "hovermode": "closest",
          "mapbox": {
           "style": "light"
          },
          "paper_bgcolor": "white",
          "plot_bgcolor": "white",
          "polar": {
           "angularaxis": {
            "gridcolor": "rgb(232,232,232)",
            "linecolor": "rgb(36,36,36)",
            "showgrid": false,
            "showline": true,
            "ticks": "outside"
           },
           "bgcolor": "white",
           "radialaxis": {
            "gridcolor": "rgb(232,232,232)",
            "linecolor": "rgb(36,36,36)",
            "showgrid": false,
            "showline": true,
            "ticks": "outside"
           }
          },
          "scene": {
           "xaxis": {
            "backgroundcolor": "white",
            "gridcolor": "rgb(232,232,232)",
            "gridwidth": 2,
            "linecolor": "rgb(36,36,36)",
            "showbackground": true,
            "showgrid": false,
            "showline": true,
            "ticks": "outside",
            "zeroline": false,
            "zerolinecolor": "rgb(36,36,36)"
           },
           "yaxis": {
            "backgroundcolor": "white",
            "gridcolor": "rgb(232,232,232)",
            "gridwidth": 2,
            "linecolor": "rgb(36,36,36)",
            "showbackground": true,
            "showgrid": false,
            "showline": true,
            "ticks": "outside",
            "zeroline": false,
            "zerolinecolor": "rgb(36,36,36)"
           },
           "zaxis": {
            "backgroundcolor": "white",
            "gridcolor": "rgb(232,232,232)",
            "gridwidth": 2,
            "linecolor": "rgb(36,36,36)",
            "showbackground": true,
            "showgrid": false,
            "showline": true,
            "ticks": "outside",
            "zeroline": false,
            "zerolinecolor": "rgb(36,36,36)"
           }
          },
          "shapedefaults": {
           "fillcolor": "black",
           "line": {
            "width": 0
           },
           "opacity": 0.3
          },
          "ternary": {
           "aaxis": {
            "gridcolor": "rgb(232,232,232)",
            "linecolor": "rgb(36,36,36)",
            "showgrid": false,
            "showline": true,
            "ticks": "outside"
           },
           "baxis": {
            "gridcolor": "rgb(232,232,232)",
            "linecolor": "rgb(36,36,36)",
            "showgrid": false,
            "showline": true,
            "ticks": "outside"
           },
           "bgcolor": "white",
           "caxis": {
            "gridcolor": "rgb(232,232,232)",
            "linecolor": "rgb(36,36,36)",
            "showgrid": false,
            "showline": true,
            "ticks": "outside"
           }
          },
          "title": {
           "x": 0.05
          },
          "xaxis": {
           "automargin": true,
           "gridcolor": "rgb(232,232,232)",
           "linecolor": "rgb(36,36,36)",
           "showgrid": false,
           "showline": true,
           "ticks": "outside",
           "title": {
            "standoff": 15
           },
           "zeroline": false,
           "zerolinecolor": "rgb(36,36,36)"
          },
          "yaxis": {
           "automargin": true,
           "gridcolor": "rgb(232,232,232)",
           "linecolor": "rgb(36,36,36)",
           "showgrid": false,
           "showline": true,
           "ticks": "outside",
           "title": {
            "standoff": 15
           },
           "zeroline": false,
           "zerolinecolor": "rgb(36,36,36)"
          }
         }
        },
        "title": {
         "text": "LOG SCALE (Y) OF REPAIR COUNTS BY PRODUCT AGE"
        },
        "width": 800,
        "xaxis": {
         "anchor": "y",
         "domain": [
          0,
          1
         ],
         "range": [
          0,
          40
         ],
         "title": {
          "text": "PRODUCT AGE [YEARS]"
         }
        },
        "yaxis": {
         "anchor": "x",
         "domain": [
          0,
          1
         ],
         "range": [
          0,
          3.5
         ],
         "title": {
          "text": "LOG SCALE REPAIR COUNT"
         },
         "type": "log"
        }
       }
      }
     },
     "metadata": {},
     "output_type": "display_data"
    }
   ],
   "source": [
    "import polars as pl\n",
    "import plotly.express as px\n",
    "import pycountry\n",
    "\n",
    "#------------------------------------------------------------------------------#\n",
    "#  MAP COUNTRY ABBREVIATIONS TO FULL NAMES, USING PYCOUNTRY LIBRARY            #\n",
    "#------------------------------------------------------------------------------#\n",
    "df_countries = (\n",
    "    pl.DataFrame(\n",
    "        dict(\n",
    "            zip(\n",
    "                [c.name for c in pycountry.countries],\n",
    "                [c.alpha_3 for c in pycountry.countries]\n",
    "            )\n",
    "        )\n",
    "    )\n",
    "    .transpose(include_header=True)\n",
    "    .rename({'column': 'COUNTRY', 'column_0': 'CTRY_ABBR'})\n",
    ")\n",
    "\n",
    "#------------------------------------------------------------------------------#\n",
    "#  READ DATA SET, TWEAK AND CLEAN FOR THIS EXERECISE                           #\n",
    "#------------------------------------------------------------------------------#\n",
    "df = (\n",
    "    pl.read_csv('OpenRepair_Data_RepairCafeInt_202407.csv')\n",
    "    .rename({'country': 'CTRY_ABBR'})\n",
    "    .join(\n",
    "        df_countries,\n",
    "        on='CTRY_ABBR',\n",
    "        how='left'\n",
    "    )\n",
    "    .with_columns(pl.col('product_age').cast(pl.UInt16))\n",
    "    .with_columns(\n",
    "        PRODUCT_AGE_COUNT = \n",
    "            pl.col('repair_status')\n",
    "            .count()\n",
    "            .over(['repair_status','product_age'])\n",
    "            )\n",
    "    .drop('problem')  # 66_071 unique problems out or 75252 entries, not useful\n",
    "    .drop('group_identifier')  # too inconsistent, not useful    \n",
    "    .drop('product_category_id')  # redundant, used named product category   \n",
    "    .drop('partner_product_category')      # inconsistent data,      \n",
    "    .drop('id')      # unique record id for this analysis not needed\n",
    "    .drop('data_provider')  # all values are Repair Café International\n",
    "    # only 1 entry for unknown, drop it\n",
    "    .filter(~pl.col('repair_status').is_in(['Unknown']))              \n",
    ")\n",
    "# shift country name and abbr to left side of dataframe, drop first col\n",
    "left_cols = ['COUNTRY', 'CTRY_ABBR']\n",
    "reordered_cols = left_cols + [c for c in df.columns[1:] if c not in left_cols]\n",
    "df = df[reordered_cols]\n",
    "\n",
    "#------------------------------------------------------------------------------#\n",
    "#  PREPARE DATAFRAME FOR SCATTER PLOTS                                         #\n",
    "#------------------------------------------------------------------------------#\n",
    "df_scatter = (\n",
    "    df\n",
    "    .select(pl.col('repair_status','product_age', 'PRODUCT_AGE_COUNT'))\n",
    "    .unique(['repair_status', 'product_age'])\n",
    "    .pivot(\n",
    "         on='repair_status',\n",
    "         values='PRODUCT_AGE_COUNT',\n",
    "    )\n",
    "    .sort('product_age', descending=False)\n",
    ")\n",
    "\n",
    "#------------------------------------------------------------------------------#\n",
    "#  SCATTER PLOT REPAIR COUNT BY PRODUCT AGE, LINEAR SCALE                      #\n",
    "#------------------------------------------------------------------------------#\n",
    "plot_cols = ['Fixed',  'End of life', 'Repairable'] \n",
    "x_max = 40\n",
    "fig = px.scatter(\n",
    "    data_frame= df_scatter,\n",
    "    x = 'product_age',\n",
    "    y = plot_cols,\n",
    "    template='simple_white',\n",
    "    width=800,\n",
    "    height=500,\n",
    ")\n",
    "fig.update_layout(\n",
    "        title='Linear Scale (Y) of Repair Counts by product age'.upper(),\n",
    "        xaxis_title='product age [years]'.upper(),\n",
    "        yaxis_title='linear scale - Repair Count'.upper(),  \n",
    "        yaxis_range = [0.0, 1400.0],\n",
    "        xaxis_range=[0, x_max],\n",
    "        legend_title=None,\n",
    "        hovermode='x unified', \n",
    "\n",
    ")\n",
    "fig.update_traces(\n",
    "    mode='lines+markers',\n",
    "    hovertemplate=' '.join(['%{y}'])\n",
    ")\n",
    "fig.show()\n",
    "\n",
    "#------------------------------------------------------------------------------#\n",
    "#  SCATTER PLOT REPAIR COUNT BY PRODUCT AGE, LOG SCALE                         #\n",
    "#------------------------------------------------------------------------------#\n",
    "fig = px.scatter(\n",
    "    df_scatter,\n",
    "    'product_age',\n",
    "    plot_cols,\n",
    "    template='simple_white',\n",
    "    width=800,\n",
    "    height=500,\n",
    "    log_y=True,\n",
    ")\n",
    "fig.update_layout(\n",
    "        title='Log Scale (Y) of Repair Counts by product age'.upper(),\n",
    "        xaxis_title='product age [years]'.upper(),\n",
    "        yaxis_title='log scale Repair Count'.upper(),  \n",
    "        yaxis_range = [0.0, 3.5],\n",
    "        xaxis_range=[0, x_max],\n",
    "        legend_title=None,\n",
    "        hovermode='x unified', \n",
    ")\n",
    "fig.update_traces(\n",
    "    mode='lines+markers',\n",
    "    hovertemplate=' '.join(['%{y}'])\n",
    ")\n",
    "fig.show()\n"
   ]
  },
  {
   "cell_type": "code",
   "execution_count": 44,
   "id": "2bbc3bf1",
   "metadata": {},
   "outputs": [
    {
     "data": {
      "text/html": [
       "<div><style>\n",
       ".dataframe > thead > tr,\n",
       ".dataframe > tbody > tr {\n",
       "  text-align: right;\n",
       "  white-space: pre-wrap;\n",
       "}\n",
       "</style>\n",
       "<small>shape: (75_252, 15)</small><table border=\"1\" class=\"dataframe\"><thead><tr><th></th><th>id</th><th>data_provider</th><th>country</th><th>partner_product_category</th><th>product_category</th><th>product_category_id</th><th>brand</th><th>year_of_manufacture</th><th>product_age</th><th>repair_status</th><th>repair_barrier_if_end_of_life</th><th>group_identifier</th><th>event_date</th><th>problem</th></tr><tr><td>i64</td><td>str</td><td>str</td><td>str</td><td>str</td><td>str</td><td>i64</td><td>str</td><td>f64</td><td>f64</td><td>str</td><td>str</td><td>str</td><td>str</td><td>str</td></tr></thead><tbody><tr><td>0</td><td>&quot;rcint_82530&quot;</td><td>&quot;Repair Café International&quot;</td><td>&quot;FRA&quot;</td><td>&quot;Household appliances electric …</td><td>&quot;Iron&quot;</td><td>40</td><td>&quot;Calor&quot;</td><td>null</td><td>null</td><td>&quot;Fixed&quot;</td><td>null</td><td>&quot;Bourgoin-Jallieu&quot;</td><td>&quot;2024-07-13&quot;</td><td>&quot;Electrovanne HS. Ne fonctionne…</td></tr><tr><td>1</td><td>&quot;rcint_105090&quot;</td><td>&quot;Repair Café International&quot;</td><td>&quot;USA&quot;</td><td>&quot;Computer equipment / phones ~ …</td><td>&quot;Laptop&quot;</td><td>16</td><td>&quot;HP&quot;</td><td>2021.0</td><td>3.0</td><td>&quot;End of life&quot;</td><td>null</td><td>&quot;New Orleans LA&quot;</td><td>&quot;2024-01-31&quot;</td><td>&quot;Motherboard is shot. Doesnt po…</td></tr><tr><td>2</td><td>&quot;rcint_78676&quot;</td><td>&quot;Repair Café International&quot;</td><td>&quot;NLD&quot;</td><td>&quot;Display and sound equipment ~ …</td><td>&quot;TV and gaming-related accessor…</td><td>33</td><td>&quot;Unknown&quot;</td><td>null</td><td>null</td><td>&quot;End of life&quot;</td><td>null</td><td>&quot;Olst&quot;</td><td>&quot;2024-07-26&quot;</td><td>&quot;Geen. Doet het niet meer.&quot;</td></tr><tr><td>3</td><td>&quot;rcint_78675&quot;</td><td>&quot;Repair Café International&quot;</td><td>&quot;NLD&quot;</td><td>&quot;Household appliances electric …</td><td>&quot;Fan&quot;</td><td>7</td><td>&quot;Tronix&quot;</td><td>2004.0</td><td>20.0</td><td>&quot;End of life&quot;</td><td>&quot;No way to open product&quot;</td><td>&quot;Olst&quot;</td><td>&quot;2024-07-26&quot;</td><td>&quot;niet gevonden. Draadbreuk op s…</td></tr><tr><td>4</td><td>&quot;rcint_78674&quot;</td><td>&quot;Repair Café International&quot;</td><td>&quot;NLD&quot;</td><td>&quot;Display and sound equipment ~ …</td><td>&quot;Portable radio&quot;</td><td>23</td><td>&quot;Denver&quot;</td><td>null</td><td>null</td><td>&quot;End of life&quot;</td><td>null</td><td>&quot;Olst&quot;</td><td>&quot;2024-07-26&quot;</td><td>&quot;IC kapot. Doet het niet.&quot;</td></tr><tr><td>&hellip;</td><td>&hellip;</td><td>&hellip;</td><td>&hellip;</td><td>&hellip;</td><td>&hellip;</td><td>&hellip;</td><td>&hellip;</td><td>&hellip;</td><td>&hellip;</td><td>&hellip;</td><td>&hellip;</td><td>&hellip;</td><td>&hellip;</td><td>&hellip;</td></tr><tr><td>75247</td><td>&quot;rcint_856&quot;</td><td>&quot;Repair Café International&quot;</td><td>&quot;NLD&quot;</td><td>&quot;Household appliances electric …</td><td>&quot;Food processor&quot;</td><td>37</td><td>&quot;Princess&quot;</td><td>2008.0</td><td>9.0</td><td>&quot;Fixed&quot;</td><td>null</td><td>&quot;Capelle aan den IJssel&quot;</td><td>&quot;2017-05-04&quot;</td><td>&quot;de besturingsknop is afgebroke…</td></tr><tr><td>75248</td><td>&quot;rcint_798&quot;</td><td>&quot;Repair Café International&quot;</td><td>&quot;NLD&quot;</td><td>&quot;Household appliances electric …</td><td>&quot;Large home electrical&quot;</td><td>17</td><td>&quot;Hema&quot;</td><td>2007.0</td><td>10.0</td><td>&quot;Fixed&quot;</td><td>null</td><td>&quot;Capelle aan den IJssel&quot;</td><td>&quot;2017-04-20&quot;</td><td>&quot;kortsluiting. vocht. schoongem…</td></tr><tr><td>75249</td><td>&quot;rcint_1302&quot;</td><td>&quot;Repair Café International&quot;</td><td>&quot;NLD&quot;</td><td>&quot;Computer equipment / phones ~ …</td><td>&quot;Tablet&quot;</td><td>30</td><td>&quot;Asus&quot;</td><td>2010.0</td><td>7.0</td><td>&quot;Fixed&quot;</td><td>null</td><td>&quot;Oirsbeek&quot;</td><td>&quot;2017-06-03&quot;</td><td>&quot;Google werkt niet meer. Waarsc…</td></tr><tr><td>75250</td><td>&quot;rcint_1297&quot;</td><td>&quot;Repair Café International&quot;</td><td>&quot;NLD&quot;</td><td>&quot;Household appliances electric …</td><td>&quot;Kettle&quot;</td><td>14</td><td>&quot;Tefal&quot;</td><td>2015.0</td><td>2.0</td><td>&quot;Repairable&quot;</td><td>null</td><td>&quot;Oirsbeek&quot;</td><td>&quot;2017-06-03&quot;</td><td>&quot;water blijft koken. thermostaa…</td></tr><tr><td>75251</td><td>&quot;rcint_620&quot;</td><td>&quot;Repair Café International&quot;</td><td>&quot;NLD&quot;</td><td>&quot;Household appliances electric …</td><td>&quot;Kettle&quot;</td><td>14</td><td>&quot;Inventum&quot;</td><td>2010.0</td><td>7.0</td><td>&quot;Fixed&quot;</td><td>null</td><td>&quot;Oirsbeek&quot;</td><td>&quot;2017-04-01&quot;</td><td>&quot;knopje afgebroken, doet het ni…</td></tr></tbody></table></div>"
      ],
      "text/plain": [
       "shape: (75_252, 15)\n",
       "┌───────┬────────────┬────────────┬─────────┬───┬────────────┬────────────┬────────────┬───────────┐\n",
       "│       ┆ id         ┆ data_provi ┆ country ┆ … ┆ repair_bar ┆ group_iden ┆ event_date ┆ problem   │\n",
       "│ ---   ┆ ---        ┆ der        ┆ ---     ┆   ┆ rier_if_en ┆ tifier     ┆ ---        ┆ ---       │\n",
       "│ i64   ┆ str        ┆ ---        ┆ str     ┆   ┆ d_of_life  ┆ ---        ┆ str        ┆ str       │\n",
       "│       ┆            ┆ str        ┆         ┆   ┆ ---        ┆ str        ┆            ┆           │\n",
       "│       ┆            ┆            ┆         ┆   ┆ str        ┆            ┆            ┆           │\n",
       "╞═══════╪════════════╪════════════╪═════════╪═══╪════════════╪════════════╪════════════╪═══════════╡\n",
       "│ 0     ┆ rcint_8253 ┆ Repair     ┆ FRA     ┆ … ┆ null       ┆ Bourgoin-J ┆ 2024-07-13 ┆ Electrova │\n",
       "│       ┆ 0          ┆ Café Inter ┆         ┆   ┆            ┆ allieu     ┆            ┆ nne HS.   │\n",
       "│       ┆            ┆ national   ┆         ┆   ┆            ┆            ┆            ┆ Ne foncti │\n",
       "│       ┆            ┆            ┆         ┆   ┆            ┆            ┆            ┆ onne…     │\n",
       "│ 1     ┆ rcint_1050 ┆ Repair     ┆ USA     ┆ … ┆ null       ┆ New        ┆ 2024-01-31 ┆ Motherboa │\n",
       "│       ┆ 90         ┆ Café Inter ┆         ┆   ┆            ┆ Orleans LA ┆            ┆ rd is     │\n",
       "│       ┆            ┆ national   ┆         ┆   ┆            ┆            ┆            ┆ shot.     │\n",
       "│       ┆            ┆            ┆         ┆   ┆            ┆            ┆            ┆ Doesnt    │\n",
       "│       ┆            ┆            ┆         ┆   ┆            ┆            ┆            ┆ po…       │\n",
       "│ 2     ┆ rcint_7867 ┆ Repair     ┆ NLD     ┆ … ┆ null       ┆ Olst       ┆ 2024-07-26 ┆ Geen.     │\n",
       "│       ┆ 6          ┆ Café Inter ┆         ┆   ┆            ┆            ┆            ┆ Doet het  │\n",
       "│       ┆            ┆ national   ┆         ┆   ┆            ┆            ┆            ┆ niet      │\n",
       "│       ┆            ┆            ┆         ┆   ┆            ┆            ┆            ┆ meer.     │\n",
       "│ 3     ┆ rcint_7867 ┆ Repair     ┆ NLD     ┆ … ┆ No way to  ┆ Olst       ┆ 2024-07-26 ┆ niet      │\n",
       "│       ┆ 5          ┆ Café Inter ┆         ┆   ┆ open       ┆            ┆            ┆ gevonden. │\n",
       "│       ┆            ┆ national   ┆         ┆   ┆ product    ┆            ┆            ┆ Draadbreu │\n",
       "│       ┆            ┆            ┆         ┆   ┆            ┆            ┆            ┆ k op s…   │\n",
       "│ 4     ┆ rcint_7867 ┆ Repair     ┆ NLD     ┆ … ┆ null       ┆ Olst       ┆ 2024-07-26 ┆ IC kapot. │\n",
       "│       ┆ 4          ┆ Café Inter ┆         ┆   ┆            ┆            ┆            ┆ Doet het  │\n",
       "│       ┆            ┆ national   ┆         ┆   ┆            ┆            ┆            ┆ niet.     │\n",
       "│ …     ┆ …          ┆ …          ┆ …       ┆ … ┆ …          ┆ …          ┆ …          ┆ …         │\n",
       "│ 75247 ┆ rcint_856  ┆ Repair     ┆ NLD     ┆ … ┆ null       ┆ Capelle    ┆ 2017-05-04 ┆ de bestur │\n",
       "│       ┆            ┆ Café Inter ┆         ┆   ┆            ┆ aan den    ┆            ┆ ingsknop  │\n",
       "│       ┆            ┆ national   ┆         ┆   ┆            ┆ IJssel     ┆            ┆ is afgebr │\n",
       "│       ┆            ┆            ┆         ┆   ┆            ┆            ┆            ┆ oke…      │\n",
       "│ 75248 ┆ rcint_798  ┆ Repair     ┆ NLD     ┆ … ┆ null       ┆ Capelle    ┆ 2017-04-20 ┆ kortsluit │\n",
       "│       ┆            ┆ Café Inter ┆         ┆   ┆            ┆ aan den    ┆            ┆ ing.      │\n",
       "│       ┆            ┆ national   ┆         ┆   ┆            ┆ IJssel     ┆            ┆ vocht.    │\n",
       "│       ┆            ┆            ┆         ┆   ┆            ┆            ┆            ┆ schoongem │\n",
       "│       ┆            ┆            ┆         ┆   ┆            ┆            ┆            ┆ …         │\n",
       "│ 75249 ┆ rcint_1302 ┆ Repair     ┆ NLD     ┆ … ┆ null       ┆ Oirsbeek   ┆ 2017-06-03 ┆ Google    │\n",
       "│       ┆            ┆ Café Inter ┆         ┆   ┆            ┆            ┆            ┆ werkt     │\n",
       "│       ┆            ┆ national   ┆         ┆   ┆            ┆            ┆            ┆ niet      │\n",
       "│       ┆            ┆            ┆         ┆   ┆            ┆            ┆            ┆ meer.     │\n",
       "│       ┆            ┆            ┆         ┆   ┆            ┆            ┆            ┆ Waarsc…   │\n",
       "│ 75250 ┆ rcint_1297 ┆ Repair     ┆ NLD     ┆ … ┆ null       ┆ Oirsbeek   ┆ 2017-06-03 ┆ water     │\n",
       "│       ┆            ┆ Café Inter ┆         ┆   ┆            ┆            ┆            ┆ blijft    │\n",
       "│       ┆            ┆ national   ┆         ┆   ┆            ┆            ┆            ┆ koken.    │\n",
       "│       ┆            ┆            ┆         ┆   ┆            ┆            ┆            ┆ thermosta │\n",
       "│       ┆            ┆            ┆         ┆   ┆            ┆            ┆            ┆ a…        │\n",
       "│ 75251 ┆ rcint_620  ┆ Repair     ┆ NLD     ┆ … ┆ null       ┆ Oirsbeek   ┆ 2017-04-01 ┆ knopje    │\n",
       "│       ┆            ┆ Café Inter ┆         ┆   ┆            ┆            ┆            ┆ afgebroke │\n",
       "│       ┆            ┆ national   ┆         ┆   ┆            ┆            ┆            ┆ n, doet   │\n",
       "│       ┆            ┆            ┆         ┆   ┆            ┆            ┆            ┆ het ni…   │\n",
       "└───────┴────────────┴────────────┴─────────┴───┴────────────┴────────────┴────────────┴───────────┘"
      ]
     },
     "execution_count": 44,
     "metadata": {},
     "output_type": "execute_result"
    }
   ],
   "source": [
    "df_explore = pl.read_csv('OpenRepair_Data_RepairCafeInt_202407.csv')\n",
    "#df_explore.filter(pl.col('repair_status') == 'Unknown').shape\n",
    "df_explore"
   ]
  }
 ],
 "metadata": {
  "kernelspec": {
   "display_name": "base",
   "language": "python",
   "name": "python3"
  },
  "language_info": {
   "codemirror_mode": {
    "name": "ipython",
    "version": 3
   },
   "file_extension": ".py",
   "mimetype": "text/x-python",
   "name": "python",
   "nbconvert_exporter": "python",
   "pygments_lexer": "ipython3",
   "version": "3.11.10"
  }
 },
 "nbformat": 4,
 "nbformat_minor": 5
}
