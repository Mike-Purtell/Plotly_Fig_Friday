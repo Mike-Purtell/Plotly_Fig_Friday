{
 "cells": [
  {
   "cell_type": "markdown",
   "id": "ce0238ea-6930-4a02-ace7-ae0d786c43f7",
   "metadata": {},
   "source": [
    "### Plotly Figure Friday - 2024 week 42 - Snakes"
   ]
  },
  {
   "cell_type": "code",
   "execution_count": 2,
   "id": "68ad6b05",
   "metadata": {},
   "outputs": [
    {
     "data": {
      "application/vnd.plotly.v1+json": {
       "config": {
        "plotlyServerURL": "https://plot.ly"
       },
       "data": [
        {
         "hoverinfo": "skip",
         "orientation": "h",
         "type": "bar",
         "x": [
          275,
          300,
          300,
          370,
          380,
          400,
          440,
          457,
          460,
          513,
          560,
          565.1,
          574,
          580,
          710
         ],
         "xaxis": "x",
         "y": [
          "Blood Python",
          "Ramsay'S Python",
          "Brown Water Python",
          "Olive Python",
          "Moluccan Python",
          "Diamond Python",
          "Northern African Rock Python",
          "Oenpelli Python",
          "Indian Rock Python",
          "Apodora Papuana",
          "Kinghorn'S Python",
          "Amethystine Python",
          "Burmese Python",
          "Natal Rock Python",
          "Reticulated Python"
         ],
         "yaxis": "y"
        },
        {
         "customdata": [
          [
           "Pygmy Python",
           76.9,
           2,
           6.275590751000003,
           339,
           0.747367068806735
          ],
          [
           "Spotted Python",
           150,
           4,
           11.055118500000006,
           530,
           1.1684499895798512
          ],
          [
           "Kyaiktiyo Python",
           152,
           4,
           11.84252008,
           3600,
           7.9366414386555935
          ],
          [
           "Morelia Azurea",
           200,
           6,
           6.740158000000008,
           1600,
           3.5273961949580412
          ],
          [
           "Green Tree Python",
           200,
           6,
           6.740158000000008,
           2200,
           4.850169768067307
          ],
          [
           "Borneo Python",
           210,
           6,
           10.677165900000006,
           13600,
           29.982867657143352
          ],
          [
           "Tanimbar Python",
           240,
           7,
           10.488189599999998,
           1900,
           4.1887829815126745
          ],
          [
           "Blood Python",
           275,
           9,
           0.267717250000004,
           18000,
           39.683207193277966
          ],
          [
           "Ramsay'S Python",
           300,
           9,
           10.110237000000012,
           3900,
           8.598028225210227
          ],
          [
           "Brown Water Python",
           300,
           9,
           10.110237000000012,
           953,
           2.1010053586218835
          ],
          [
           "Olive Python",
           370,
           12,
           1.669292299999995,
           9300,
           20.502990383193616
          ],
          [
           "Moluccan Python",
           380,
           12,
           5.606300200000021,
           8500,
           18.739292285714594
          ],
          [
           "Diamond Python",
           400,
           13,
           1.4803160000000162,
           15000,
           33.06933932773164
          ],
          [
           "Northern African Rock Python",
           440,
           14,
           5.228347600000006,
           113000,
           249.12235626891166
          ],
          [
           "Oenpelli Python",
           457,
           14,
           11.92126103000001,
           6000,
           13.227735731092656
          ],
          [
           "Indian Rock Python",
           460,
           15,
           1.1023634000000015,
           52200,
           115.0813008605061
          ],
          [
           "Apodora Papuana",
           513,
           16,
           9.968505270000009,
           22500,
           49.60400899159746
          ],
          [
           "Kinghorn'S Python",
           560,
           18,
           4.472442400000006,
           91000,
           200.6206585882386
          ],
          [
           "Amethystine Python",
           565.1,
           18,
           6.480316429000027,
           24000,
           52.91094292437062
          ],
          [
           "Burmese Python",
           574,
           18,
           9.98425346000002,
           182000,
           401.2413171764772
          ],
          [
           "Natal Rock Python",
           580,
           19,
           0.3464582000000007,
           53400,
           117.72684800672464
          ],
          [
           "Reticulated Python",
           710,
           23,
           3.527560900000026,
           158000,
           348.3303742521066
          ]
         ],
         "hovertemplate": "<b>%{customdata[0]}</b><br>Length: %{customdata[1]} cm (%{customdata[2]} ft, %{customdata[3]:.0f} in)<br>Weight: %{customdata[4]:,} gr (%{customdata[5]:.1f} Pounds)<br><extra></extra>",
         "marker": {
          "color": "green"
         },
         "mode": "markers",
         "type": "scatter",
         "x": [
          76.9,
          150,
          152,
          200,
          200,
          210,
          240,
          275,
          300,
          300,
          370,
          380,
          400,
          440,
          457,
          460,
          513,
          560,
          565.1,
          574,
          580,
          710
         ],
         "xaxis": "x2",
         "y": [
          339,
          530,
          3600,
          1600,
          2200,
          13600,
          1900,
          18000,
          3900,
          953,
          9300,
          8500,
          15000,
          113000,
          6000,
          52200,
          22500,
          91000,
          24000,
          182000,
          53400,
          158000
         ],
         "yaxis": "y2"
        },
        {
         "hoverinfo": "skip",
         "line": {
          "color": "gray",
          "width": 3
         },
         "mode": "lines",
         "type": "scatter",
         "x": [
          76.9,
          107.04761904761905,
          137.1952380952381,
          167.34285714285716,
          197.49047619047622,
          227.63809523809525,
          257.78571428571433,
          287.93333333333334,
          318.0809523809524,
          348.2285714285714,
          378.37619047619046,
          408.5238095238095,
          438.6714285714286,
          468.81904761904764,
          498.9666666666667,
          529.1142857142858,
          559.2619047619048,
          589.4095238095238,
          619.5571428571428,
          649.7047619047619,
          679.8523809523809,
          710
         ],
         "xaxis": "x2",
         "y": [
          138.89984255805575,
          2145.7390236769625,
          3069.14432382797,
          3442.4154189583587,
          3718.296881132652,
          4274.724786262244,
          5420.573321835012,
          7401.401394644932,
          10405.199238521685,
          14568.135022060264,
          19980.30145635058,
          26691.462402707162,
          34716.7994803987,
          44042.65867437753,
          54632.29694300966,
          66431.62882580365,
          79374.97305114126,
          93390.79914400603,
          108407.47403371341,
          124359.0086616407,
          141190.80458895574,
          158865.40060434767
         ],
         "yaxis": "y2"
        }
       ],
       "layout": {
        "annotations": [
         {
          "font": {
           "size": 16
          },
          "showarrow": false,
          "text": "Length of the world's longest pythons",
          "x": 0.225,
          "xanchor": "center",
          "xref": "paper",
          "y": 1,
          "yanchor": "bottom",
          "yref": "paper"
         },
         {
          "font": {
           "size": 16
          },
          "showarrow": false,
          "text": "Python BMI Data: Weight vs Height<br><sup>Best-fit polynomial degree of 5</sup>",
          "x": 0.775,
          "xanchor": "center",
          "xref": "paper",
          "y": 1,
          "yanchor": "bottom",
          "yref": "paper"
         }
        ],
        "showlegend": false,
        "template": {
         "data": {
          "bar": [
           {
            "error_x": {
             "color": "rgb(36,36,36)"
            },
            "error_y": {
             "color": "rgb(36,36,36)"
            },
            "marker": {
             "line": {
              "color": "white",
              "width": 0.5
             },
             "pattern": {
              "fillmode": "overlay",
              "size": 10,
              "solidity": 0.2
             }
            },
            "type": "bar"
           }
          ],
          "barpolar": [
           {
            "marker": {
             "line": {
              "color": "white",
              "width": 0.5
             },
             "pattern": {
              "fillmode": "overlay",
              "size": 10,
              "solidity": 0.2
             }
            },
            "type": "barpolar"
           }
          ],
          "carpet": [
           {
            "aaxis": {
             "endlinecolor": "rgb(36,36,36)",
             "gridcolor": "white",
             "linecolor": "white",
             "minorgridcolor": "white",
             "startlinecolor": "rgb(36,36,36)"
            },
            "baxis": {
             "endlinecolor": "rgb(36,36,36)",
             "gridcolor": "white",
             "linecolor": "white",
             "minorgridcolor": "white",
             "startlinecolor": "rgb(36,36,36)"
            },
            "type": "carpet"
           }
          ],
          "choropleth": [
           {
            "colorbar": {
             "outlinewidth": 1,
             "tickcolor": "rgb(36,36,36)",
             "ticks": "outside"
            },
            "type": "choropleth"
           }
          ],
          "contour": [
           {
            "colorbar": {
             "outlinewidth": 1,
             "tickcolor": "rgb(36,36,36)",
             "ticks": "outside"
            },
            "colorscale": [
             [
              0,
              "#440154"
             ],
             [
              0.1111111111111111,
              "#482878"
             ],
             [
              0.2222222222222222,
              "#3e4989"
             ],
             [
              0.3333333333333333,
              "#31688e"
             ],
             [
              0.4444444444444444,
              "#26828e"
             ],
             [
              0.5555555555555556,
              "#1f9e89"
             ],
             [
              0.6666666666666666,
              "#35b779"
             ],
             [
              0.7777777777777778,
              "#6ece58"
             ],
             [
              0.8888888888888888,
              "#b5de2b"
             ],
             [
              1,
              "#fde725"
             ]
            ],
            "type": "contour"
           }
          ],
          "contourcarpet": [
           {
            "colorbar": {
             "outlinewidth": 1,
             "tickcolor": "rgb(36,36,36)",
             "ticks": "outside"
            },
            "type": "contourcarpet"
           }
          ],
          "heatmap": [
           {
            "colorbar": {
             "outlinewidth": 1,
             "tickcolor": "rgb(36,36,36)",
             "ticks": "outside"
            },
            "colorscale": [
             [
              0,
              "#440154"
             ],
             [
              0.1111111111111111,
              "#482878"
             ],
             [
              0.2222222222222222,
              "#3e4989"
             ],
             [
              0.3333333333333333,
              "#31688e"
             ],
             [
              0.4444444444444444,
              "#26828e"
             ],
             [
              0.5555555555555556,
              "#1f9e89"
             ],
             [
              0.6666666666666666,
              "#35b779"
             ],
             [
              0.7777777777777778,
              "#6ece58"
             ],
             [
              0.8888888888888888,
              "#b5de2b"
             ],
             [
              1,
              "#fde725"
             ]
            ],
            "type": "heatmap"
           }
          ],
          "heatmapgl": [
           {
            "colorbar": {
             "outlinewidth": 1,
             "tickcolor": "rgb(36,36,36)",
             "ticks": "outside"
            },
            "colorscale": [
             [
              0,
              "#440154"
             ],
             [
              0.1111111111111111,
              "#482878"
             ],
             [
              0.2222222222222222,
              "#3e4989"
             ],
             [
              0.3333333333333333,
              "#31688e"
             ],
             [
              0.4444444444444444,
              "#26828e"
             ],
             [
              0.5555555555555556,
              "#1f9e89"
             ],
             [
              0.6666666666666666,
              "#35b779"
             ],
             [
              0.7777777777777778,
              "#6ece58"
             ],
             [
              0.8888888888888888,
              "#b5de2b"
             ],
             [
              1,
              "#fde725"
             ]
            ],
            "type": "heatmapgl"
           }
          ],
          "histogram": [
           {
            "marker": {
             "line": {
              "color": "white",
              "width": 0.6
             }
            },
            "type": "histogram"
           }
          ],
          "histogram2d": [
           {
            "colorbar": {
             "outlinewidth": 1,
             "tickcolor": "rgb(36,36,36)",
             "ticks": "outside"
            },
            "colorscale": [
             [
              0,
              "#440154"
             ],
             [
              0.1111111111111111,
              "#482878"
             ],
             [
              0.2222222222222222,
              "#3e4989"
             ],
             [
              0.3333333333333333,
              "#31688e"
             ],
             [
              0.4444444444444444,
              "#26828e"
             ],
             [
              0.5555555555555556,
              "#1f9e89"
             ],
             [
              0.6666666666666666,
              "#35b779"
             ],
             [
              0.7777777777777778,
              "#6ece58"
             ],
             [
              0.8888888888888888,
              "#b5de2b"
             ],
             [
              1,
              "#fde725"
             ]
            ],
            "type": "histogram2d"
           }
          ],
          "histogram2dcontour": [
           {
            "colorbar": {
             "outlinewidth": 1,
             "tickcolor": "rgb(36,36,36)",
             "ticks": "outside"
            },
            "colorscale": [
             [
              0,
              "#440154"
             ],
             [
              0.1111111111111111,
              "#482878"
             ],
             [
              0.2222222222222222,
              "#3e4989"
             ],
             [
              0.3333333333333333,
              "#31688e"
             ],
             [
              0.4444444444444444,
              "#26828e"
             ],
             [
              0.5555555555555556,
              "#1f9e89"
             ],
             [
              0.6666666666666666,
              "#35b779"
             ],
             [
              0.7777777777777778,
              "#6ece58"
             ],
             [
              0.8888888888888888,
              "#b5de2b"
             ],
             [
              1,
              "#fde725"
             ]
            ],
            "type": "histogram2dcontour"
           }
          ],
          "mesh3d": [
           {
            "colorbar": {
             "outlinewidth": 1,
             "tickcolor": "rgb(36,36,36)",
             "ticks": "outside"
            },
            "type": "mesh3d"
           }
          ],
          "parcoords": [
           {
            "line": {
             "colorbar": {
              "outlinewidth": 1,
              "tickcolor": "rgb(36,36,36)",
              "ticks": "outside"
             }
            },
            "type": "parcoords"
           }
          ],
          "pie": [
           {
            "automargin": true,
            "type": "pie"
           }
          ],
          "scatter": [
           {
            "fillpattern": {
             "fillmode": "overlay",
             "size": 10,
             "solidity": 0.2
            },
            "type": "scatter"
           }
          ],
          "scatter3d": [
           {
            "line": {
             "colorbar": {
              "outlinewidth": 1,
              "tickcolor": "rgb(36,36,36)",
              "ticks": "outside"
             }
            },
            "marker": {
             "colorbar": {
              "outlinewidth": 1,
              "tickcolor": "rgb(36,36,36)",
              "ticks": "outside"
             }
            },
            "type": "scatter3d"
           }
          ],
          "scattercarpet": [
           {
            "marker": {
             "colorbar": {
              "outlinewidth": 1,
              "tickcolor": "rgb(36,36,36)",
              "ticks": "outside"
             }
            },
            "type": "scattercarpet"
           }
          ],
          "scattergeo": [
           {
            "marker": {
             "colorbar": {
              "outlinewidth": 1,
              "tickcolor": "rgb(36,36,36)",
              "ticks": "outside"
             }
            },
            "type": "scattergeo"
           }
          ],
          "scattergl": [
           {
            "marker": {
             "colorbar": {
              "outlinewidth": 1,
              "tickcolor": "rgb(36,36,36)",
              "ticks": "outside"
             }
            },
            "type": "scattergl"
           }
          ],
          "scattermapbox": [
           {
            "marker": {
             "colorbar": {
              "outlinewidth": 1,
              "tickcolor": "rgb(36,36,36)",
              "ticks": "outside"
             }
            },
            "type": "scattermapbox"
           }
          ],
          "scatterpolar": [
           {
            "marker": {
             "colorbar": {
              "outlinewidth": 1,
              "tickcolor": "rgb(36,36,36)",
              "ticks": "outside"
             }
            },
            "type": "scatterpolar"
           }
          ],
          "scatterpolargl": [
           {
            "marker": {
             "colorbar": {
              "outlinewidth": 1,
              "tickcolor": "rgb(36,36,36)",
              "ticks": "outside"
             }
            },
            "type": "scatterpolargl"
           }
          ],
          "scatterternary": [
           {
            "marker": {
             "colorbar": {
              "outlinewidth": 1,
              "tickcolor": "rgb(36,36,36)",
              "ticks": "outside"
             }
            },
            "type": "scatterternary"
           }
          ],
          "surface": [
           {
            "colorbar": {
             "outlinewidth": 1,
             "tickcolor": "rgb(36,36,36)",
             "ticks": "outside"
            },
            "colorscale": [
             [
              0,
              "#440154"
             ],
             [
              0.1111111111111111,
              "#482878"
             ],
             [
              0.2222222222222222,
              "#3e4989"
             ],
             [
              0.3333333333333333,
              "#31688e"
             ],
             [
              0.4444444444444444,
              "#26828e"
             ],
             [
              0.5555555555555556,
              "#1f9e89"
             ],
             [
              0.6666666666666666,
              "#35b779"
             ],
             [
              0.7777777777777778,
              "#6ece58"
             ],
             [
              0.8888888888888888,
              "#b5de2b"
             ],
             [
              1,
              "#fde725"
             ]
            ],
            "type": "surface"
           }
          ],
          "table": [
           {
            "cells": {
             "fill": {
              "color": "rgb(237,237,237)"
             },
             "line": {
              "color": "white"
             }
            },
            "header": {
             "fill": {
              "color": "rgb(217,217,217)"
             },
             "line": {
              "color": "white"
             }
            },
            "type": "table"
           }
          ]
         },
         "layout": {
          "annotationdefaults": {
           "arrowhead": 0,
           "arrowwidth": 1
          },
          "autotypenumbers": "strict",
          "coloraxis": {
           "colorbar": {
            "outlinewidth": 1,
            "tickcolor": "rgb(36,36,36)",
            "ticks": "outside"
           }
          },
          "colorscale": {
           "diverging": [
            [
             0,
             "rgb(103,0,31)"
            ],
            [
             0.1,
             "rgb(178,24,43)"
            ],
            [
             0.2,
             "rgb(214,96,77)"
            ],
            [
             0.3,
             "rgb(244,165,130)"
            ],
            [
             0.4,
             "rgb(253,219,199)"
            ],
            [
             0.5,
             "rgb(247,247,247)"
            ],
            [
             0.6,
             "rgb(209,229,240)"
            ],
            [
             0.7,
             "rgb(146,197,222)"
            ],
            [
             0.8,
             "rgb(67,147,195)"
            ],
            [
             0.9,
             "rgb(33,102,172)"
            ],
            [
             1,
             "rgb(5,48,97)"
            ]
           ],
           "sequential": [
            [
             0,
             "#440154"
            ],
            [
             0.1111111111111111,
             "#482878"
            ],
            [
             0.2222222222222222,
             "#3e4989"
            ],
            [
             0.3333333333333333,
             "#31688e"
            ],
            [
             0.4444444444444444,
             "#26828e"
            ],
            [
             0.5555555555555556,
             "#1f9e89"
            ],
            [
             0.6666666666666666,
             "#35b779"
            ],
            [
             0.7777777777777778,
             "#6ece58"
            ],
            [
             0.8888888888888888,
             "#b5de2b"
            ],
            [
             1,
             "#fde725"
            ]
           ],
           "sequentialminus": [
            [
             0,
             "#440154"
            ],
            [
             0.1111111111111111,
             "#482878"
            ],
            [
             0.2222222222222222,
             "#3e4989"
            ],
            [
             0.3333333333333333,
             "#31688e"
            ],
            [
             0.4444444444444444,
             "#26828e"
            ],
            [
             0.5555555555555556,
             "#1f9e89"
            ],
            [
             0.6666666666666666,
             "#35b779"
            ],
            [
             0.7777777777777778,
             "#6ece58"
            ],
            [
             0.8888888888888888,
             "#b5de2b"
            ],
            [
             1,
             "#fde725"
            ]
           ]
          },
          "colorway": [
           "#1F77B4",
           "#FF7F0E",
           "#2CA02C",
           "#D62728",
           "#9467BD",
           "#8C564B",
           "#E377C2",
           "#7F7F7F",
           "#BCBD22",
           "#17BECF"
          ],
          "font": {
           "color": "rgb(36,36,36)"
          },
          "geo": {
           "bgcolor": "white",
           "lakecolor": "white",
           "landcolor": "white",
           "showlakes": true,
           "showland": true,
           "subunitcolor": "white"
          },
          "hoverlabel": {
           "align": "left"
          },
          "hovermode": "closest",
          "mapbox": {
           "style": "light"
          },
          "paper_bgcolor": "white",
          "plot_bgcolor": "white",
          "polar": {
           "angularaxis": {
            "gridcolor": "rgb(232,232,232)",
            "linecolor": "rgb(36,36,36)",
            "showgrid": false,
            "showline": true,
            "ticks": "outside"
           },
           "bgcolor": "white",
           "radialaxis": {
            "gridcolor": "rgb(232,232,232)",
            "linecolor": "rgb(36,36,36)",
            "showgrid": false,
            "showline": true,
            "ticks": "outside"
           }
          },
          "scene": {
           "xaxis": {
            "backgroundcolor": "white",
            "gridcolor": "rgb(232,232,232)",
            "gridwidth": 2,
            "linecolor": "rgb(36,36,36)",
            "showbackground": true,
            "showgrid": false,
            "showline": true,
            "ticks": "outside",
            "zeroline": false,
            "zerolinecolor": "rgb(36,36,36)"
           },
           "yaxis": {
            "backgroundcolor": "white",
            "gridcolor": "rgb(232,232,232)",
            "gridwidth": 2,
            "linecolor": "rgb(36,36,36)",
            "showbackground": true,
            "showgrid": false,
            "showline": true,
            "ticks": "outside",
            "zeroline": false,
            "zerolinecolor": "rgb(36,36,36)"
           },
           "zaxis": {
            "backgroundcolor": "white",
            "gridcolor": "rgb(232,232,232)",
            "gridwidth": 2,
            "linecolor": "rgb(36,36,36)",
            "showbackground": true,
            "showgrid": false,
            "showline": true,
            "ticks": "outside",
            "zeroline": false,
            "zerolinecolor": "rgb(36,36,36)"
           }
          },
          "shapedefaults": {
           "fillcolor": "black",
           "line": {
            "width": 0
           },
           "opacity": 0.3
          },
          "ternary": {
           "aaxis": {
            "gridcolor": "rgb(232,232,232)",
            "linecolor": "rgb(36,36,36)",
            "showgrid": false,
            "showline": true,
            "ticks": "outside"
           },
           "baxis": {
            "gridcolor": "rgb(232,232,232)",
            "linecolor": "rgb(36,36,36)",
            "showgrid": false,
            "showline": true,
            "ticks": "outside"
           },
           "bgcolor": "white",
           "caxis": {
            "gridcolor": "rgb(232,232,232)",
            "linecolor": "rgb(36,36,36)",
            "showgrid": false,
            "showline": true,
            "ticks": "outside"
           }
          },
          "title": {
           "x": 0.05
          },
          "xaxis": {
           "automargin": true,
           "gridcolor": "rgb(232,232,232)",
           "linecolor": "rgb(36,36,36)",
           "showgrid": false,
           "showline": true,
           "ticks": "outside",
           "title": {
            "standoff": 15
           },
           "zeroline": false,
           "zerolinecolor": "rgb(36,36,36)"
          },
          "yaxis": {
           "automargin": true,
           "gridcolor": "rgb(232,232,232)",
           "linecolor": "rgb(36,36,36)",
           "showgrid": false,
           "showline": true,
           "ticks": "outside",
           "title": {
            "standoff": 15
           },
           "zeroline": false,
           "zerolinecolor": "rgb(36,36,36)"
          }
         }
        },
        "title": {
         "font": {
          "size": 36
         },
         "text": "<b>Snakes on a Pane</b>"
        },
        "xaxis": {
         "anchor": "y",
         "domain": [
          0,
          0.45
         ],
         "title": {
          "text": "Length (cm)"
         }
        },
        "xaxis2": {
         "anchor": "y2",
         "domain": [
          0.55,
          1
         ],
         "title": {
          "text": "Length (cm)"
         }
        },
        "yaxis": {
         "anchor": "x",
         "domain": [
          0,
          1
         ]
        },
        "yaxis2": {
         "anchor": "x2",
         "domain": [
          0,
          1
         ],
         "title": {
          "text": "Weight (grams)"
         }
        }
       }
      }
     },
     "metadata": {},
     "output_type": "display_data"
    }
   ],
   "source": [
    "import plotly.express as px\n",
    "import plotly.graph_objects as go\n",
    "from plotly.subplots import make_subplots\n",
    "\n",
    "import polars as pl\n",
    "import polars.selectors as cs\n",
    "\n",
    "import numpy as np\n",
    "\n",
    "degree = 5  # used for curve fitting\n",
    "\n",
    "#\n",
    "#   MAKE DATAFRAMES\n",
    "#\n",
    "df_python = (  # df python is used for scatter plot\n",
    "    pl.scan_csv('merged_snake_data.csv')\n",
    "    # when Common Name is missing, use value from Binomial column \n",
    "    .with_columns(\n",
    "        pl.when(pl.col('Common Name').is_null())\n",
    "          .then('Binomial')\n",
    "          .otherwise('Common Name')\n",
    "          .alias('Common Name')\n",
    "    )\n",
    "    .with_columns(pl.col('Common Name').str.to_titlecase())\n",
    "\n",
    "    .filter(pl.col('Family') == 'Pythonidae')\n",
    "    .select(pl.col('TBL cm','Weight gr','Common Name'))\n",
    "    .drop_nulls(subset=['TBL cm','Weight gr'])\n",
    "    # add columns for hover to show length in feet and inches\n",
    "    .with_columns(TOTAL_INCHES = (pl.col('TBL cm')*0.39370079))\n",
    "    .with_columns(FEET = (pl.col('TOTAL_INCHES')/12).cast(pl.UInt8))\n",
    "    .with_columns(INCHES = (pl.col('TOTAL_INCHES') - (12.0*pl.col('FEET'))))\n",
    "    .with_columns(POUNDS = (pl.col('Weight gr') / 453.59237)) #.cast(pl.UInt8))\n",
    "    .sort('TBL cm', descending=False)\n",
    "    .collect()\n",
    ")\n",
    "\n",
    "# df_python_longest used for pareto chart showing world's longest pythons\n",
    "df_python_longest = (\n",
    "    df_python.sort('TBL cm',descending=True)\n",
    "    .head(15)\n",
    "    .select(pl.col('Common Name', 'TBL cm'))\n",
    "    .sort('TBL cm', descending=False)\n",
    ")\n",
    "\n",
    "#\n",
    "#   SETUP SIDE BY SIDE PLOTS, PARETO ON LEFT, SCATTER ON RIGHT\n",
    "#\n",
    "left_title = \"Length of the world's longest pythons\"\n",
    "right_title = 'Python BMI Data: Weight vs Height<br>'\n",
    "right_title += f'<sup>Best-fit polynomial degree of {degree}</sup>'\n",
    "fig = make_subplots(\n",
    "    rows=1, cols=2, \n",
    "    subplot_titles=(left_title, right_title),\n",
    "    specs=[\n",
    "            [\n",
    "            {'type': 'scatter'}, {'type': 'bar'}\n",
    "            ]\n",
    "        ]\n",
    "    )\n",
    "\n",
    "#\n",
    "#   PARETO CHART OF PYTHON LENGTHS IN LEFT PLOT\n",
    "#\n",
    "fig.add_trace(\n",
    "    go.Bar(\n",
    "        x=df_python_longest['TBL cm'],  \n",
    "        y=df_python_longest['Common Name'],\n",
    "        orientation='h',\n",
    "        hovertemplate = None,\n",
    "        hoverinfo = 'skip',\n",
    "    ),\n",
    "    row=1, col=1,\n",
    ")\n",
    "fig.update_xaxes(title_text='Length (cm)', row=1, col=1)\n",
    "\n",
    "#\n",
    "#   SCATTER PLOT WITH POLYNOMIAL BEST FIT ON THE RIGHT\n",
    "#\n",
    "\n",
    "#   Create best fit data to overlay on scatter\n",
    "x = df_python['TBL cm']\n",
    "y = df_python['Weight gr']\n",
    "# least squares polynomial fit, \n",
    "coefs = np.polyfit(x, y, degree)\n",
    "best_fit_x = np.linspace(min(x), max(x), num=np.size(x))\n",
    "best_fit_y = np.polyval(coefs, best_fit_x)\n",
    "\n",
    "fig.add_trace(\n",
    "    go.Scatter(\n",
    "        x=df_python['TBL cm'],\n",
    "        y=df_python['Weight gr'],\n",
    "        mode='markers',\n",
    "        marker=dict(color='green'),\n",
    "        customdata=df_python[['Common Name', 'TBL cm', 'FEET', 'INCHES', 'Weight gr', 'POUNDS']],\n",
    "        hovertemplate=(\n",
    "            '<b>%{customdata[0]}</b><br>' +\n",
    "            'Length: %{customdata[1]} cm ' +\n",
    "            '(%{customdata[2]} ft, ' +\n",
    "            '%{customdata[3]:.0f} in)<br>' +\n",
    "            'Weight: %{customdata[4]:,} gr ' +\n",
    "            '(%{customdata[5]:.1f} Pounds)<br>' +\n",
    "            '<extra></extra>'\n",
    "        ),\n",
    "    ),\n",
    "    row=1, col=2\n",
    ")\n",
    "fig.update_xaxes(title_text='Length (cm)', row=1, col=2)\n",
    "fig.update_yaxes(title_text='Weight (grams)', row=1, col=2)\n",
    "\n",
    "fig.add_trace(\n",
    "    go.Scatter(\n",
    "        x=best_fit_x, \n",
    "        y=best_fit_y,\n",
    "        hovertemplate = None,\n",
    "        hoverinfo = 'skip',\n",
    "        mode='lines',\n",
    "        line=dict(color='gray', width=3)\n",
    "    ),\n",
    "    row=1, col=2\n",
    ")\n",
    "\n",
    "fig.update_layout(\n",
    "    template='simple_white',\n",
    "    showlegend=False,\n",
    "    title=f'<b>Snakes on a Pane</b>',\n",
    "    title_font={\"size\": 36}\n",
    ")\n",
    "\n",
    "fig.show()\n",
    "fig.write_html('snakes_on_a_pane.html')\n"
   ]
  }
 ],
 "metadata": {
  "kernelspec": {
   "display_name": "base",
   "language": "python",
   "name": "python3"
  },
  "language_info": {
   "codemirror_mode": {
    "name": "ipython",
    "version": 3
   },
   "file_extension": ".py",
   "mimetype": "text/x-python",
   "name": "python",
   "nbconvert_exporter": "python",
   "pygments_lexer": "ipython3",
   "version": "3.11.10"
  }
 },
 "nbformat": 4,
 "nbformat_minor": 5
}
